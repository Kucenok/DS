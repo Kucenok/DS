{
 "cells": [
  {
   "cell_type": "markdown",
   "id": "2f041e01",
   "metadata": {},
   "source": [
    "# Laboratory work 10 \n",
    "           by Lebedeva Yekaterina IT2-2110"
   ]
  },
  {
   "cell_type": "markdown",
   "id": "d9a24e33",
   "metadata": {},
   "source": [
    "# 1. Importing packages"
   ]
  },
  {
   "cell_type": "code",
   "execution_count": 113,
   "id": "c58c1067",
   "metadata": {},
   "outputs": [],
   "source": [
    "import numpy as np\n",
    "import pandas as pd\n",
    "import matplotlib.pyplot as plt\n",
    "from sklearn.model_selection import train_test_split\n",
    "from sklearn.linear_model import LinearRegression\n",
    "from sklearn.tree import DecisionTreeRegressor\n",
    "from sklearn.metrics import mean_squared_error, r2_score\n",
    "from sklearn.model_selection import cross_val_score"
   ]
  },
  {
   "cell_type": "markdown",
   "id": "a3ebdf69",
   "metadata": {},
   "source": [
    "# 2. Data loading"
   ]
  },
  {
   "cell_type": "code",
   "execution_count": 114,
   "id": "8a264040",
   "metadata": {},
   "outputs": [
    {
     "data": {
      "text/html": [
       "<div>\n",
       "<style scoped>\n",
       "    .dataframe tbody tr th:only-of-type {\n",
       "        vertical-align: middle;\n",
       "    }\n",
       "\n",
       "    .dataframe tbody tr th {\n",
       "        vertical-align: top;\n",
       "    }\n",
       "\n",
       "    .dataframe thead th {\n",
       "        text-align: right;\n",
       "    }\n",
       "</style>\n",
       "<table border=\"1\" class=\"dataframe\">\n",
       "  <thead>\n",
       "    <tr style=\"text-align: right;\">\n",
       "      <th></th>\n",
       "      <th>MSSubClass</th>\n",
       "      <th>MSZoning</th>\n",
       "      <th>LotArea</th>\n",
       "      <th>Street</th>\n",
       "      <th>LotShape</th>\n",
       "      <th>LandContour</th>\n",
       "      <th>Utilities</th>\n",
       "      <th>Neighborhood</th>\n",
       "      <th>HouseStyle</th>\n",
       "      <th>OverallQual</th>\n",
       "      <th>...</th>\n",
       "      <th>HeatingQC</th>\n",
       "      <th>CentralAir</th>\n",
       "      <th>Electrical</th>\n",
       "      <th>1stFlrSF</th>\n",
       "      <th>2ndFlrSF</th>\n",
       "      <th>BedroomAbvGr</th>\n",
       "      <th>KitchenAbvGr</th>\n",
       "      <th>PoolArea</th>\n",
       "      <th>SaleCondition</th>\n",
       "      <th>SalePrice</th>\n",
       "    </tr>\n",
       "  </thead>\n",
       "  <tbody>\n",
       "    <tr>\n",
       "      <th>0</th>\n",
       "      <td>60.0</td>\n",
       "      <td>RL</td>\n",
       "      <td>8450.0</td>\n",
       "      <td>Pave</td>\n",
       "      <td>Reg</td>\n",
       "      <td>NaN</td>\n",
       "      <td>AllPub</td>\n",
       "      <td>CollgCr</td>\n",
       "      <td>NaN</td>\n",
       "      <td>NaN</td>\n",
       "      <td>...</td>\n",
       "      <td>Ex</td>\n",
       "      <td>Y</td>\n",
       "      <td>SBrkr</td>\n",
       "      <td>856</td>\n",
       "      <td>854</td>\n",
       "      <td>3</td>\n",
       "      <td>1</td>\n",
       "      <td>0</td>\n",
       "      <td>Normal</td>\n",
       "      <td>208500</td>\n",
       "    </tr>\n",
       "    <tr>\n",
       "      <th>1</th>\n",
       "      <td>20.0</td>\n",
       "      <td>RL</td>\n",
       "      <td>9600.0</td>\n",
       "      <td>NaN</td>\n",
       "      <td>Reg</td>\n",
       "      <td>NaN</td>\n",
       "      <td>AllPub</td>\n",
       "      <td>Veenker</td>\n",
       "      <td>1Story</td>\n",
       "      <td>6.0</td>\n",
       "      <td>...</td>\n",
       "      <td>Ex</td>\n",
       "      <td>Y</td>\n",
       "      <td>SBrkr</td>\n",
       "      <td>1262</td>\n",
       "      <td>0</td>\n",
       "      <td>3</td>\n",
       "      <td>1</td>\n",
       "      <td>0</td>\n",
       "      <td>Normal</td>\n",
       "      <td>181500</td>\n",
       "    </tr>\n",
       "    <tr>\n",
       "      <th>2</th>\n",
       "      <td>60.0</td>\n",
       "      <td>RL</td>\n",
       "      <td>11250.0</td>\n",
       "      <td>Pavement</td>\n",
       "      <td>IR1</td>\n",
       "      <td>Lvl</td>\n",
       "      <td>AllPub</td>\n",
       "      <td>CollgCr</td>\n",
       "      <td>2Story</td>\n",
       "      <td>7.0</td>\n",
       "      <td>...</td>\n",
       "      <td>Ex</td>\n",
       "      <td>Y</td>\n",
       "      <td>SBrkr</td>\n",
       "      <td>920</td>\n",
       "      <td>866</td>\n",
       "      <td>3</td>\n",
       "      <td>1</td>\n",
       "      <td>0</td>\n",
       "      <td>Normal</td>\n",
       "      <td>223500</td>\n",
       "    </tr>\n",
       "    <tr>\n",
       "      <th>3</th>\n",
       "      <td>70.0</td>\n",
       "      <td>RL</td>\n",
       "      <td>9550.0</td>\n",
       "      <td>Pavement</td>\n",
       "      <td>IR1</td>\n",
       "      <td>NaN</td>\n",
       "      <td>AllPub</td>\n",
       "      <td>Crawfor</td>\n",
       "      <td>2Story</td>\n",
       "      <td>NaN</td>\n",
       "      <td>...</td>\n",
       "      <td>Gd</td>\n",
       "      <td>Y</td>\n",
       "      <td>SBrkr</td>\n",
       "      <td>961</td>\n",
       "      <td>756</td>\n",
       "      <td>3</td>\n",
       "      <td>1</td>\n",
       "      <td>0</td>\n",
       "      <td>Abnorml</td>\n",
       "      <td>140000</td>\n",
       "    </tr>\n",
       "    <tr>\n",
       "      <th>4</th>\n",
       "      <td>60.0</td>\n",
       "      <td>RL</td>\n",
       "      <td>14260.0</td>\n",
       "      <td>NaN</td>\n",
       "      <td>IR1</td>\n",
       "      <td>Lvl</td>\n",
       "      <td>AllPub</td>\n",
       "      <td>NoRidge</td>\n",
       "      <td>2Story</td>\n",
       "      <td>8.0</td>\n",
       "      <td>...</td>\n",
       "      <td>Ex</td>\n",
       "      <td>Y</td>\n",
       "      <td>SBrkr</td>\n",
       "      <td>1145</td>\n",
       "      <td>1053</td>\n",
       "      <td>4</td>\n",
       "      <td>1</td>\n",
       "      <td>0</td>\n",
       "      <td>Normal</td>\n",
       "      <td>250000</td>\n",
       "    </tr>\n",
       "    <tr>\n",
       "      <th>...</th>\n",
       "      <td>...</td>\n",
       "      <td>...</td>\n",
       "      <td>...</td>\n",
       "      <td>...</td>\n",
       "      <td>...</td>\n",
       "      <td>...</td>\n",
       "      <td>...</td>\n",
       "      <td>...</td>\n",
       "      <td>...</td>\n",
       "      <td>...</td>\n",
       "      <td>...</td>\n",
       "      <td>...</td>\n",
       "      <td>...</td>\n",
       "      <td>...</td>\n",
       "      <td>...</td>\n",
       "      <td>...</td>\n",
       "      <td>...</td>\n",
       "      <td>...</td>\n",
       "      <td>...</td>\n",
       "      <td>...</td>\n",
       "      <td>...</td>\n",
       "    </tr>\n",
       "    <tr>\n",
       "      <th>1455</th>\n",
       "      <td>60.0</td>\n",
       "      <td>RL</td>\n",
       "      <td>7917.0</td>\n",
       "      <td>Pave</td>\n",
       "      <td>Reg</td>\n",
       "      <td>Lvl</td>\n",
       "      <td>AllPub</td>\n",
       "      <td>Gilbert</td>\n",
       "      <td>2Story</td>\n",
       "      <td>6.0</td>\n",
       "      <td>...</td>\n",
       "      <td>Ex</td>\n",
       "      <td>Y</td>\n",
       "      <td>SBrkr</td>\n",
       "      <td>953</td>\n",
       "      <td>694</td>\n",
       "      <td>3</td>\n",
       "      <td>1</td>\n",
       "      <td>0</td>\n",
       "      <td>Normal</td>\n",
       "      <td>175000</td>\n",
       "    </tr>\n",
       "    <tr>\n",
       "      <th>1456</th>\n",
       "      <td>20.0</td>\n",
       "      <td>RL</td>\n",
       "      <td>13175.0</td>\n",
       "      <td>Pave</td>\n",
       "      <td>Reg</td>\n",
       "      <td>Lvl</td>\n",
       "      <td>AllPub</td>\n",
       "      <td>NWAmes</td>\n",
       "      <td>1Story</td>\n",
       "      <td>6.0</td>\n",
       "      <td>...</td>\n",
       "      <td>TA</td>\n",
       "      <td>Y</td>\n",
       "      <td>SBrkr</td>\n",
       "      <td>2073</td>\n",
       "      <td>0</td>\n",
       "      <td>3</td>\n",
       "      <td>1</td>\n",
       "      <td>0</td>\n",
       "      <td>Normal</td>\n",
       "      <td>210000</td>\n",
       "    </tr>\n",
       "    <tr>\n",
       "      <th>1457</th>\n",
       "      <td>70.0</td>\n",
       "      <td>RL</td>\n",
       "      <td>9042.0</td>\n",
       "      <td>Pave</td>\n",
       "      <td>Reg</td>\n",
       "      <td>Lvl</td>\n",
       "      <td>AllPub</td>\n",
       "      <td>Crawfor</td>\n",
       "      <td>2Story</td>\n",
       "      <td>7.0</td>\n",
       "      <td>...</td>\n",
       "      <td>Ex</td>\n",
       "      <td>Y</td>\n",
       "      <td>SBrkr</td>\n",
       "      <td>1188</td>\n",
       "      <td>1152</td>\n",
       "      <td>4</td>\n",
       "      <td>1</td>\n",
       "      <td>0</td>\n",
       "      <td>Normal</td>\n",
       "      <td>266500</td>\n",
       "    </tr>\n",
       "    <tr>\n",
       "      <th>1458</th>\n",
       "      <td>20.0</td>\n",
       "      <td>RL</td>\n",
       "      <td>9717.0</td>\n",
       "      <td>Pave</td>\n",
       "      <td>Reg</td>\n",
       "      <td>Lvl</td>\n",
       "      <td>AllPub</td>\n",
       "      <td>NAmes</td>\n",
       "      <td>1Story</td>\n",
       "      <td>5.0</td>\n",
       "      <td>...</td>\n",
       "      <td>Gd</td>\n",
       "      <td>Y</td>\n",
       "      <td>FuseA</td>\n",
       "      <td>1078</td>\n",
       "      <td>0</td>\n",
       "      <td>2</td>\n",
       "      <td>1</td>\n",
       "      <td>0</td>\n",
       "      <td>Normal</td>\n",
       "      <td>142125</td>\n",
       "    </tr>\n",
       "    <tr>\n",
       "      <th>1459</th>\n",
       "      <td>20.0</td>\n",
       "      <td>RL</td>\n",
       "      <td>9937.0</td>\n",
       "      <td>Pave</td>\n",
       "      <td>Reg</td>\n",
       "      <td>Lvl</td>\n",
       "      <td>AllPub</td>\n",
       "      <td>Edwards</td>\n",
       "      <td>1Story</td>\n",
       "      <td>5.0</td>\n",
       "      <td>...</td>\n",
       "      <td>Gd</td>\n",
       "      <td>Y</td>\n",
       "      <td>SBrkr</td>\n",
       "      <td>1256</td>\n",
       "      <td>0</td>\n",
       "      <td>3</td>\n",
       "      <td>1</td>\n",
       "      <td>0</td>\n",
       "      <td>Normal</td>\n",
       "      <td>147500</td>\n",
       "    </tr>\n",
       "  </tbody>\n",
       "</table>\n",
       "<p>1460 rows × 29 columns</p>\n",
       "</div>"
      ],
      "text/plain": [
       "      MSSubClass MSZoning  LotArea    Street LotShape LandContour Utilities  \\\n",
       "0           60.0       RL   8450.0      Pave      Reg         NaN    AllPub   \n",
       "1           20.0       RL   9600.0       NaN      Reg         NaN    AllPub   \n",
       "2           60.0       RL  11250.0  Pavement      IR1         Lvl    AllPub   \n",
       "3           70.0       RL   9550.0  Pavement      IR1         NaN    AllPub   \n",
       "4           60.0       RL  14260.0       NaN      IR1         Lvl    AllPub   \n",
       "...          ...      ...      ...       ...      ...         ...       ...   \n",
       "1455        60.0       RL   7917.0      Pave      Reg         Lvl    AllPub   \n",
       "1456        20.0       RL  13175.0      Pave      Reg         Lvl    AllPub   \n",
       "1457        70.0       RL   9042.0      Pave      Reg         Lvl    AllPub   \n",
       "1458        20.0       RL   9717.0      Pave      Reg         Lvl    AllPub   \n",
       "1459        20.0       RL   9937.0      Pave      Reg         Lvl    AllPub   \n",
       "\n",
       "     Neighborhood HouseStyle  OverallQual  ...  HeatingQC  CentralAir  \\\n",
       "0         CollgCr        NaN          NaN  ...         Ex           Y   \n",
       "1         Veenker     1Story          6.0  ...         Ex           Y   \n",
       "2         CollgCr     2Story          7.0  ...         Ex           Y   \n",
       "3         Crawfor     2Story          NaN  ...         Gd           Y   \n",
       "4         NoRidge     2Story          8.0  ...         Ex           Y   \n",
       "...           ...        ...          ...  ...        ...         ...   \n",
       "1455      Gilbert     2Story          6.0  ...         Ex           Y   \n",
       "1456       NWAmes     1Story          6.0  ...         TA           Y   \n",
       "1457      Crawfor     2Story          7.0  ...         Ex           Y   \n",
       "1458        NAmes     1Story          5.0  ...         Gd           Y   \n",
       "1459      Edwards     1Story          5.0  ...         Gd           Y   \n",
       "\n",
       "      Electrical 1stFlrSF 2ndFlrSF BedroomAbvGr KitchenAbvGr  PoolArea  \\\n",
       "0          SBrkr      856      854            3            1         0   \n",
       "1          SBrkr     1262        0            3            1         0   \n",
       "2          SBrkr      920      866            3            1         0   \n",
       "3          SBrkr      961      756            3            1         0   \n",
       "4          SBrkr     1145     1053            4            1         0   \n",
       "...          ...      ...      ...          ...          ...       ...   \n",
       "1455       SBrkr      953      694            3            1         0   \n",
       "1456       SBrkr     2073        0            3            1         0   \n",
       "1457       SBrkr     1188     1152            4            1         0   \n",
       "1458       FuseA     1078        0            2            1         0   \n",
       "1459       SBrkr     1256        0            3            1         0   \n",
       "\n",
       "     SaleCondition SalePrice  \n",
       "0           Normal    208500  \n",
       "1           Normal    181500  \n",
       "2           Normal    223500  \n",
       "3          Abnorml    140000  \n",
       "4           Normal    250000  \n",
       "...            ...       ...  \n",
       "1455        Normal    175000  \n",
       "1456        Normal    210000  \n",
       "1457        Normal    266500  \n",
       "1458        Normal    142125  \n",
       "1459        Normal    147500  \n",
       "\n",
       "[1460 rows x 29 columns]"
      ]
     },
     "execution_count": 114,
     "metadata": {},
     "output_type": "execute_result"
    }
   ],
   "source": [
    "data = pd.read_csv('Data_lab10.csv')\n",
    "data"
   ]
  },
  {
   "cell_type": "markdown",
   "id": "119eaa31",
   "metadata": {},
   "source": [
    "# 3. First look at data"
   ]
  },
  {
   "cell_type": "code",
   "execution_count": 115,
   "id": "b1fa8e6a",
   "metadata": {},
   "outputs": [
    {
     "name": "stdout",
     "output_type": "stream",
     "text": [
      "   MSSubClass MSZoning  LotArea    Street LotShape LandContour Utilities  \\\n",
      "0        60.0       RL   8450.0      Pave      Reg         NaN    AllPub   \n",
      "1        20.0       RL   9600.0       NaN      Reg         NaN    AllPub   \n",
      "2        60.0       RL  11250.0  Pavement      IR1         Lvl    AllPub   \n",
      "3        70.0       RL   9550.0  Pavement      IR1         NaN    AllPub   \n",
      "4        60.0       RL  14260.0       NaN      IR1         Lvl    AllPub   \n",
      "\n",
      "  Neighborhood HouseStyle  OverallQual  ...  HeatingQC  CentralAir  \\\n",
      "0      CollgCr        NaN          NaN  ...         Ex           Y   \n",
      "1      Veenker     1Story          6.0  ...         Ex           Y   \n",
      "2      CollgCr     2Story          7.0  ...         Ex           Y   \n",
      "3      Crawfor     2Story          NaN  ...         Gd           Y   \n",
      "4      NoRidge     2Story          8.0  ...         Ex           Y   \n",
      "\n",
      "   Electrical 1stFlrSF 2ndFlrSF BedroomAbvGr KitchenAbvGr  PoolArea  \\\n",
      "0       SBrkr      856      854            3            1         0   \n",
      "1       SBrkr     1262        0            3            1         0   \n",
      "2       SBrkr      920      866            3            1         0   \n",
      "3       SBrkr      961      756            3            1         0   \n",
      "4       SBrkr     1145     1053            4            1         0   \n",
      "\n",
      "  SaleCondition SalePrice  \n",
      "0        Normal    208500  \n",
      "1        Normal    181500  \n",
      "2        Normal    223500  \n",
      "3       Abnorml    140000  \n",
      "4        Normal    250000  \n",
      "\n",
      "[5 rows x 29 columns]\n"
     ]
    }
   ],
   "source": [
    "print(data.head())"
   ]
  },
  {
   "cell_type": "code",
   "execution_count": 116,
   "id": "f9c72229",
   "metadata": {},
   "outputs": [
    {
     "name": "stdout",
     "output_type": "stream",
     "text": [
      "<class 'pandas.core.frame.DataFrame'>\n",
      "RangeIndex: 1460 entries, 0 to 1459\n",
      "Data columns (total 29 columns):\n",
      " #   Column         Non-Null Count  Dtype  \n",
      "---  ------         --------------  -----  \n",
      " 0   MSSubClass     1348 non-null   float64\n",
      " 1   MSZoning       1359 non-null   object \n",
      " 2   LotArea        1338 non-null   float64\n",
      " 3   Street         879 non-null    object \n",
      " 4   LotShape       1341 non-null   object \n",
      " 5   LandContour    1001 non-null   object \n",
      " 6   Utilities      1359 non-null   object \n",
      " 7   Neighborhood   1334 non-null   object \n",
      " 8   HouseStyle     1338 non-null   object \n",
      " 9   OverallQual    1353 non-null   float64\n",
      " 10  OverallCond    1366 non-null   float64\n",
      " 11  YearBuilt      1337 non-null   float64\n",
      " 12  YearRemodAdd   1351 non-null   float64\n",
      " 13  RoofStyle      1328 non-null   object \n",
      " 14  RoofMatl       1354 non-null   object \n",
      " 15  ExterQual      1350 non-null   object \n",
      " 16  Foundation     1310 non-null   object \n",
      " 17  TotalBsmtSF    1356 non-null   float64\n",
      " 18  Heating        1362 non-null   object \n",
      " 19  HeatingQC      1353 non-null   object \n",
      " 20  CentralAir     1460 non-null   object \n",
      " 21  Electrical     1459 non-null   object \n",
      " 22  1stFlrSF       1460 non-null   int64  \n",
      " 23  2ndFlrSF       1460 non-null   int64  \n",
      " 24  BedroomAbvGr   1460 non-null   int64  \n",
      " 25  KitchenAbvGr   1460 non-null   int64  \n",
      " 26  PoolArea       1460 non-null   int64  \n",
      " 27  SaleCondition  1460 non-null   object \n",
      " 28  SalePrice      1460 non-null   int64  \n",
      "dtypes: float64(7), int64(6), object(16)\n",
      "memory usage: 330.9+ KB\n",
      "None\n"
     ]
    }
   ],
   "source": [
    "print(data.info())"
   ]
  },
  {
   "cell_type": "code",
   "execution_count": 117,
   "id": "ff86ccd3",
   "metadata": {},
   "outputs": [
    {
     "name": "stdout",
     "output_type": "stream",
     "text": [
      "        MSSubClass        LotArea  OverallQual  OverallCond    YearBuilt  \\\n",
      "count  1348.000000    1338.000000  1353.000000  1366.000000  1337.000000   \n",
      "mean     56.509644   10401.521674     6.090909     5.567350  1966.602842   \n",
      "std      42.329644    8564.200675     1.388834     1.114442    73.775027   \n",
      "min      20.000000    1300.000000     1.000000     1.000000   925.000000   \n",
      "25%      20.000000    7590.000000     5.000000     5.000000  1954.000000   \n",
      "50%      50.000000    9475.000000     6.000000     5.000000  1972.000000   \n",
      "75%      70.000000   11600.000000     7.000000     6.000000  2000.000000   \n",
      "max     190.000000  164660.000000    10.000000     9.000000  2010.000000   \n",
      "\n",
      "       YearRemodAdd   TotalBsmtSF     1stFlrSF     2ndFlrSF  BedroomAbvGr  \\\n",
      "count   1351.000000  1.356000e+03  1460.000000  1460.000000   1460.000000   \n",
      "mean    1984.929682  2.184915e+04  1162.626712   346.992466      2.866438   \n",
      "std       20.647524  3.998092e+05   386.587738   436.528436      0.815778   \n",
      "min     1950.000000  0.000000e+00   334.000000     0.000000      0.000000   \n",
      "25%     1967.000000  7.987500e+02   882.000000     0.000000      2.000000   \n",
      "50%     1994.000000  1.013000e+03  1087.000000     0.000000      3.000000   \n",
      "75%     2004.000000  1.370000e+03  1391.250000   728.000000      3.000000   \n",
      "max     2010.000000  1.041000e+07  4692.000000  2065.000000      8.000000   \n",
      "\n",
      "       KitchenAbvGr     PoolArea      SalePrice  \n",
      "count   1460.000000  1460.000000    1460.000000  \n",
      "mean       1.046575     2.758904  180921.195890  \n",
      "std        0.220338    40.177307   79442.502883  \n",
      "min        0.000000     0.000000   34900.000000  \n",
      "25%        1.000000     0.000000  129975.000000  \n",
      "50%        1.000000     0.000000  163000.000000  \n",
      "75%        1.000000     0.000000  214000.000000  \n",
      "max        3.000000   738.000000  755000.000000  \n"
     ]
    }
   ],
   "source": [
    "print(data.describe())"
   ]
  },
  {
   "cell_type": "code",
   "execution_count": 118,
   "id": "b2e91f11",
   "metadata": {},
   "outputs": [
    {
     "name": "stdout",
     "output_type": "stream",
     "text": [
      "['RL' 'RM' 'C (all)' nan 'FV' 'RH']\n"
     ]
    }
   ],
   "source": [
    "print(data['MSZoning'].unique())"
   ]
  },
  {
   "cell_type": "code",
   "execution_count": 119,
   "id": "cf859a91",
   "metadata": {},
   "outputs": [
    {
     "name": "stdout",
     "output_type": "stream",
     "text": [
      "140000    20\n",
      "135000    17\n",
      "155000    14\n",
      "145000    14\n",
      "190000    13\n",
      "          ..\n",
      "202665     1\n",
      "164900     1\n",
      "208300     1\n",
      "181500     1\n",
      "147500     1\n",
      "Name: SalePrice, Length: 663, dtype: int64\n"
     ]
    }
   ],
   "source": [
    "print(data['SalePrice'].value_counts())"
   ]
  },
  {
   "cell_type": "markdown",
   "id": "1fd9b9fb",
   "metadata": {},
   "source": [
    "# 4. Data cleaning"
   ]
  },
  {
   "cell_type": "markdown",
   "id": "cc621577",
   "metadata": {},
   "source": [
    " Handling missing values"
   ]
  },
  {
   "cell_type": "code",
   "execution_count": 120,
   "id": "4a5d3f2b",
   "metadata": {},
   "outputs": [],
   "source": [
    "data.dropna(inplace=True)"
   ]
  },
  {
   "cell_type": "markdown",
   "id": "1c11af80",
   "metadata": {},
   "source": [
    "Validation consistency, Check for duplicates"
   ]
  },
  {
   "cell_type": "code",
   "execution_count": 121,
   "id": "3d3ce7e7",
   "metadata": {},
   "outputs": [
    {
     "data": {
      "text/plain": [
       "0"
      ]
     },
     "execution_count": 121,
     "metadata": {},
     "output_type": "execute_result"
    }
   ],
   "source": [
    "data.duplicated().sum()"
   ]
  },
  {
   "cell_type": "markdown",
   "id": "ddefd41e",
   "metadata": {},
   "source": [
    "Preparation"
   ]
  },
  {
   "cell_type": "code",
   "execution_count": 123,
   "id": "ed19bd91",
   "metadata": {},
   "outputs": [],
   "source": [
    "cat = ['MSZoning', 'Street', 'LotShape', 'LandContour','Utilities','Neighborhood','HouseStyle','RoofStyle','RoofMatl','ExterQual','Foundation','HeatingQC','Heating','CentralAir','Electrical','SaleCondition']"
   ]
  },
  {
   "cell_type": "code",
   "execution_count": 124,
   "id": "7a6a8a02",
   "metadata": {},
   "outputs": [],
   "source": [
    "data[cat] = data[cat].astype('object')"
   ]
  },
  {
   "cell_type": "code",
   "execution_count": 125,
   "id": "41067641",
   "metadata": {},
   "outputs": [
    {
     "name": "stdout",
     "output_type": "stream",
     "text": [
      "MSZoning         object\n",
      "Street           object\n",
      "LotShape         object\n",
      "LandContour      object\n",
      "Utilities        object\n",
      "Neighborhood     object\n",
      "HouseStyle       object\n",
      "RoofStyle        object\n",
      "RoofMatl         object\n",
      "ExterQual        object\n",
      "Foundation       object\n",
      "HeatingQC        object\n",
      "Heating          object\n",
      "CentralAir       object\n",
      "Electrical       object\n",
      "SaleCondition    object\n",
      "dtype: object\n"
     ]
    }
   ],
   "source": [
    "print(data[cat].dtypes)"
   ]
  },
  {
   "cell_type": "code",
   "execution_count": 126,
   "id": "797f8b38",
   "metadata": {},
   "outputs": [],
   "source": [
    "from sklearn import preprocessing\n",
    "\n",
    "for column in cat:\n",
    "    data[column] = data[column].str.strip()\n",
    "    encoder = preprocessing.LabelEncoder()\n",
    "    data[column] = encoder.fit_transform(data[column])"
   ]
  },
  {
   "cell_type": "code",
   "execution_count": 127,
   "id": "e203a52e",
   "metadata": {},
   "outputs": [
    {
     "data": {
      "text/html": [
       "<div>\n",
       "<style scoped>\n",
       "    .dataframe tbody tr th:only-of-type {\n",
       "        vertical-align: middle;\n",
       "    }\n",
       "\n",
       "    .dataframe tbody tr th {\n",
       "        vertical-align: top;\n",
       "    }\n",
       "\n",
       "    .dataframe thead th {\n",
       "        text-align: right;\n",
       "    }\n",
       "</style>\n",
       "<table border=\"1\" class=\"dataframe\">\n",
       "  <thead>\n",
       "    <tr style=\"text-align: right;\">\n",
       "      <th></th>\n",
       "      <th>MSSubClass</th>\n",
       "      <th>MSZoning</th>\n",
       "      <th>LotArea</th>\n",
       "      <th>Street</th>\n",
       "      <th>LotShape</th>\n",
       "      <th>LandContour</th>\n",
       "      <th>Utilities</th>\n",
       "      <th>Neighborhood</th>\n",
       "      <th>HouseStyle</th>\n",
       "      <th>OverallQual</th>\n",
       "      <th>...</th>\n",
       "      <th>HeatingQC</th>\n",
       "      <th>CentralAir</th>\n",
       "      <th>Electrical</th>\n",
       "      <th>1stFlrSF</th>\n",
       "      <th>2ndFlrSF</th>\n",
       "      <th>BedroomAbvGr</th>\n",
       "      <th>KitchenAbvGr</th>\n",
       "      <th>PoolArea</th>\n",
       "      <th>SaleCondition</th>\n",
       "      <th>SalePrice</th>\n",
       "    </tr>\n",
       "  </thead>\n",
       "  <tbody>\n",
       "    <tr>\n",
       "      <th>2</th>\n",
       "      <td>60.0</td>\n",
       "      <td>3</td>\n",
       "      <td>11250.0</td>\n",
       "      <td>2</td>\n",
       "      <td>0</td>\n",
       "      <td>3</td>\n",
       "      <td>0</td>\n",
       "      <td>4</td>\n",
       "      <td>5</td>\n",
       "      <td>7.0</td>\n",
       "      <td>...</td>\n",
       "      <td>0</td>\n",
       "      <td>1</td>\n",
       "      <td>3</td>\n",
       "      <td>920</td>\n",
       "      <td>866</td>\n",
       "      <td>3</td>\n",
       "      <td>1</td>\n",
       "      <td>0</td>\n",
       "      <td>3</td>\n",
       "      <td>223500</td>\n",
       "    </tr>\n",
       "    <tr>\n",
       "      <th>10</th>\n",
       "      <td>20.0</td>\n",
       "      <td>3</td>\n",
       "      <td>11200.0</td>\n",
       "      <td>1</td>\n",
       "      <td>2</td>\n",
       "      <td>3</td>\n",
       "      <td>0</td>\n",
       "      <td>18</td>\n",
       "      <td>2</td>\n",
       "      <td>5.0</td>\n",
       "      <td>...</td>\n",
       "      <td>0</td>\n",
       "      <td>1</td>\n",
       "      <td>3</td>\n",
       "      <td>1040</td>\n",
       "      <td>0</td>\n",
       "      <td>3</td>\n",
       "      <td>1</td>\n",
       "      <td>0</td>\n",
       "      <td>3</td>\n",
       "      <td>129500</td>\n",
       "    </tr>\n",
       "    <tr>\n",
       "      <th>11</th>\n",
       "      <td>60.0</td>\n",
       "      <td>3</td>\n",
       "      <td>11924.0</td>\n",
       "      <td>2</td>\n",
       "      <td>0</td>\n",
       "      <td>3</td>\n",
       "      <td>0</td>\n",
       "      <td>15</td>\n",
       "      <td>5</td>\n",
       "      <td>9.0</td>\n",
       "      <td>...</td>\n",
       "      <td>0</td>\n",
       "      <td>1</td>\n",
       "      <td>3</td>\n",
       "      <td>1182</td>\n",
       "      <td>1142</td>\n",
       "      <td>4</td>\n",
       "      <td>1</td>\n",
       "      <td>0</td>\n",
       "      <td>4</td>\n",
       "      <td>345000</td>\n",
       "    </tr>\n",
       "    <tr>\n",
       "      <th>16</th>\n",
       "      <td>20.0</td>\n",
       "      <td>3</td>\n",
       "      <td>11241.0</td>\n",
       "      <td>1</td>\n",
       "      <td>0</td>\n",
       "      <td>3</td>\n",
       "      <td>0</td>\n",
       "      <td>11</td>\n",
       "      <td>2</td>\n",
       "      <td>6.0</td>\n",
       "      <td>...</td>\n",
       "      <td>0</td>\n",
       "      <td>1</td>\n",
       "      <td>3</td>\n",
       "      <td>1004</td>\n",
       "      <td>0</td>\n",
       "      <td>2</td>\n",
       "      <td>1</td>\n",
       "      <td>0</td>\n",
       "      <td>3</td>\n",
       "      <td>149000</td>\n",
       "    </tr>\n",
       "    <tr>\n",
       "      <th>17</th>\n",
       "      <td>90.0</td>\n",
       "      <td>3</td>\n",
       "      <td>10791.0</td>\n",
       "      <td>2</td>\n",
       "      <td>2</td>\n",
       "      <td>3</td>\n",
       "      <td>0</td>\n",
       "      <td>18</td>\n",
       "      <td>2</td>\n",
       "      <td>4.0</td>\n",
       "      <td>...</td>\n",
       "      <td>3</td>\n",
       "      <td>1</td>\n",
       "      <td>3</td>\n",
       "      <td>1296</td>\n",
       "      <td>0</td>\n",
       "      <td>2</td>\n",
       "      <td>2</td>\n",
       "      <td>0</td>\n",
       "      <td>3</td>\n",
       "      <td>90000</td>\n",
       "    </tr>\n",
       "    <tr>\n",
       "      <th>...</th>\n",
       "      <td>...</td>\n",
       "      <td>...</td>\n",
       "      <td>...</td>\n",
       "      <td>...</td>\n",
       "      <td>...</td>\n",
       "      <td>...</td>\n",
       "      <td>...</td>\n",
       "      <td>...</td>\n",
       "      <td>...</td>\n",
       "      <td>...</td>\n",
       "      <td>...</td>\n",
       "      <td>...</td>\n",
       "      <td>...</td>\n",
       "      <td>...</td>\n",
       "      <td>...</td>\n",
       "      <td>...</td>\n",
       "      <td>...</td>\n",
       "      <td>...</td>\n",
       "      <td>...</td>\n",
       "      <td>...</td>\n",
       "      <td>...</td>\n",
       "    </tr>\n",
       "    <tr>\n",
       "      <th>1455</th>\n",
       "      <td>60.0</td>\n",
       "      <td>3</td>\n",
       "      <td>7917.0</td>\n",
       "      <td>1</td>\n",
       "      <td>2</td>\n",
       "      <td>3</td>\n",
       "      <td>0</td>\n",
       "      <td>7</td>\n",
       "      <td>5</td>\n",
       "      <td>6.0</td>\n",
       "      <td>...</td>\n",
       "      <td>0</td>\n",
       "      <td>1</td>\n",
       "      <td>3</td>\n",
       "      <td>953</td>\n",
       "      <td>694</td>\n",
       "      <td>3</td>\n",
       "      <td>1</td>\n",
       "      <td>0</td>\n",
       "      <td>3</td>\n",
       "      <td>175000</td>\n",
       "    </tr>\n",
       "    <tr>\n",
       "      <th>1456</th>\n",
       "      <td>20.0</td>\n",
       "      <td>3</td>\n",
       "      <td>13175.0</td>\n",
       "      <td>1</td>\n",
       "      <td>2</td>\n",
       "      <td>3</td>\n",
       "      <td>0</td>\n",
       "      <td>13</td>\n",
       "      <td>2</td>\n",
       "      <td>6.0</td>\n",
       "      <td>...</td>\n",
       "      <td>3</td>\n",
       "      <td>1</td>\n",
       "      <td>3</td>\n",
       "      <td>2073</td>\n",
       "      <td>0</td>\n",
       "      <td>3</td>\n",
       "      <td>1</td>\n",
       "      <td>0</td>\n",
       "      <td>3</td>\n",
       "      <td>210000</td>\n",
       "    </tr>\n",
       "    <tr>\n",
       "      <th>1457</th>\n",
       "      <td>70.0</td>\n",
       "      <td>3</td>\n",
       "      <td>9042.0</td>\n",
       "      <td>1</td>\n",
       "      <td>2</td>\n",
       "      <td>3</td>\n",
       "      <td>0</td>\n",
       "      <td>5</td>\n",
       "      <td>5</td>\n",
       "      <td>7.0</td>\n",
       "      <td>...</td>\n",
       "      <td>0</td>\n",
       "      <td>1</td>\n",
       "      <td>3</td>\n",
       "      <td>1188</td>\n",
       "      <td>1152</td>\n",
       "      <td>4</td>\n",
       "      <td>1</td>\n",
       "      <td>0</td>\n",
       "      <td>3</td>\n",
       "      <td>266500</td>\n",
       "    </tr>\n",
       "    <tr>\n",
       "      <th>1458</th>\n",
       "      <td>20.0</td>\n",
       "      <td>3</td>\n",
       "      <td>9717.0</td>\n",
       "      <td>1</td>\n",
       "      <td>2</td>\n",
       "      <td>3</td>\n",
       "      <td>0</td>\n",
       "      <td>11</td>\n",
       "      <td>2</td>\n",
       "      <td>5.0</td>\n",
       "      <td>...</td>\n",
       "      <td>2</td>\n",
       "      <td>1</td>\n",
       "      <td>0</td>\n",
       "      <td>1078</td>\n",
       "      <td>0</td>\n",
       "      <td>2</td>\n",
       "      <td>1</td>\n",
       "      <td>0</td>\n",
       "      <td>3</td>\n",
       "      <td>142125</td>\n",
       "    </tr>\n",
       "    <tr>\n",
       "      <th>1459</th>\n",
       "      <td>20.0</td>\n",
       "      <td>3</td>\n",
       "      <td>9937.0</td>\n",
       "      <td>1</td>\n",
       "      <td>2</td>\n",
       "      <td>3</td>\n",
       "      <td>0</td>\n",
       "      <td>6</td>\n",
       "      <td>2</td>\n",
       "      <td>5.0</td>\n",
       "      <td>...</td>\n",
       "      <td>2</td>\n",
       "      <td>1</td>\n",
       "      <td>3</td>\n",
       "      <td>1256</td>\n",
       "      <td>0</td>\n",
       "      <td>3</td>\n",
       "      <td>1</td>\n",
       "      <td>0</td>\n",
       "      <td>3</td>\n",
       "      <td>147500</td>\n",
       "    </tr>\n",
       "  </tbody>\n",
       "</table>\n",
       "<p>153 rows × 29 columns</p>\n",
       "</div>"
      ],
      "text/plain": [
       "      MSSubClass  MSZoning  LotArea  Street  LotShape  LandContour  Utilities  \\\n",
       "2           60.0         3  11250.0       2         0            3          0   \n",
       "10          20.0         3  11200.0       1         2            3          0   \n",
       "11          60.0         3  11924.0       2         0            3          0   \n",
       "16          20.0         3  11241.0       1         0            3          0   \n",
       "17          90.0         3  10791.0       2         2            3          0   \n",
       "...          ...       ...      ...     ...       ...          ...        ...   \n",
       "1455        60.0         3   7917.0       1         2            3          0   \n",
       "1456        20.0         3  13175.0       1         2            3          0   \n",
       "1457        70.0         3   9042.0       1         2            3          0   \n",
       "1458        20.0         3   9717.0       1         2            3          0   \n",
       "1459        20.0         3   9937.0       1         2            3          0   \n",
       "\n",
       "      Neighborhood  HouseStyle  OverallQual  ...  HeatingQC  CentralAir  \\\n",
       "2                4           5          7.0  ...          0           1   \n",
       "10              18           2          5.0  ...          0           1   \n",
       "11              15           5          9.0  ...          0           1   \n",
       "16              11           2          6.0  ...          0           1   \n",
       "17              18           2          4.0  ...          3           1   \n",
       "...            ...         ...          ...  ...        ...         ...   \n",
       "1455             7           5          6.0  ...          0           1   \n",
       "1456            13           2          6.0  ...          3           1   \n",
       "1457             5           5          7.0  ...          0           1   \n",
       "1458            11           2          5.0  ...          2           1   \n",
       "1459             6           2          5.0  ...          2           1   \n",
       "\n",
       "      Electrical  1stFlrSF  2ndFlrSF  BedroomAbvGr  KitchenAbvGr  PoolArea  \\\n",
       "2              3       920       866             3             1         0   \n",
       "10             3      1040         0             3             1         0   \n",
       "11             3      1182      1142             4             1         0   \n",
       "16             3      1004         0             2             1         0   \n",
       "17             3      1296         0             2             2         0   \n",
       "...          ...       ...       ...           ...           ...       ...   \n",
       "1455           3       953       694             3             1         0   \n",
       "1456           3      2073         0             3             1         0   \n",
       "1457           3      1188      1152             4             1         0   \n",
       "1458           0      1078         0             2             1         0   \n",
       "1459           3      1256         0             3             1         0   \n",
       "\n",
       "      SaleCondition  SalePrice  \n",
       "2                 3     223500  \n",
       "10                3     129500  \n",
       "11                4     345000  \n",
       "16                3     149000  \n",
       "17                3      90000  \n",
       "...             ...        ...  \n",
       "1455              3     175000  \n",
       "1456              3     210000  \n",
       "1457              3     266500  \n",
       "1458              3     142125  \n",
       "1459              3     147500  \n",
       "\n",
       "[153 rows x 29 columns]"
      ]
     },
     "execution_count": 127,
     "metadata": {},
     "output_type": "execute_result"
    }
   ],
   "source": [
    "data"
   ]
  },
  {
   "cell_type": "code",
   "execution_count": 128,
   "id": "2da799b5",
   "metadata": {},
   "outputs": [],
   "source": [
    "num = ['MSSubClass', 'LotArea','OverallQual', '1stFlrSF', '2ndFlrSF', 'BedroomAbvGr',\n",
    "       'KitchenAbvGr', 'PoolArea', 'SalePrice']"
   ]
  },
  {
   "cell_type": "code",
   "execution_count": 129,
   "id": "638ad0f8",
   "metadata": {},
   "outputs": [
    {
     "data": {
      "text/plain": [
       "<Axes: >"
      ]
     },
     "execution_count": 129,
     "metadata": {},
     "output_type": "execute_result"
    },
    {
     "data": {
      "image/png": "[encoded data removed]",
      "text/plain": [
       "<Figure size 640x480 with 1 Axes>"
      ]
     },
     "metadata": {},
     "output_type": "display_data"
    }
   ],
   "source": [
    "data[['SalePrice']].boxplot()"
   ]
  },
  {
   "cell_type": "code",
   "execution_count": 130,
   "id": "02372671",
   "metadata": {},
   "outputs": [
    {
     "data": {
      "text/plain": [
       "<Axes: >"
      ]
     },
     "execution_count": 130,
     "metadata": {},
     "output_type": "execute_result"
    },
    {
     "data": {
      "image/png": "[encoded data removed]",
      "text/plain": [
       "<Figure size 640x480 with 1 Axes>"
      ]
     },
     "metadata": {},
     "output_type": "display_data"
    }
   ],
   "source": [
    "data[['LotArea']].boxplot()"
   ]
  },
  {
   "cell_type": "code",
   "execution_count": 131,
   "id": "f0e9b3d0",
   "metadata": {},
   "outputs": [],
   "source": [
    "data.loc[data.LotArea > 40000, 'LotArea'] = np.nan"
   ]
  },
  {
   "cell_type": "code",
   "execution_count": 132,
   "id": "5e47cdbe",
   "metadata": {},
   "outputs": [],
   "source": [
    "data.dropna(inplace=True)"
   ]
  },
  {
   "cell_type": "markdown",
   "id": "b6a70ce9",
   "metadata": {},
   "source": [
    "# 5. Data analysis"
   ]
  },
  {
   "cell_type": "markdown",
   "id": "46575642",
   "metadata": {},
   "source": [
    "Visualizing relationship between columns"
   ]
  },
  {
   "cell_type": "code",
   "execution_count": 133,
   "id": "8944c18d",
   "metadata": {},
   "outputs": [
    {
     "data": {
      "image/png": "[encoded data removed]",
      "text/plain": [
       "<Figure size 640x480 with 1 Axes>"
      ]
     },
     "metadata": {},
     "output_type": "display_data"
    }
   ],
   "source": [
    "plt.scatter(data['SalePrice'], data['LotArea'])\n",
    "plt.xlabel('SalePrice')\n",
    "plt.ylabel('LotArea')\n",
    "plt.show()"
   ]
  },
  {
   "cell_type": "markdown",
   "id": "41302f69",
   "metadata": {},
   "source": [
    " Investigating relationships between columns"
   ]
  },
  {
   "cell_type": "code",
   "execution_count": 134,
   "id": "f217ba96",
   "metadata": {},
   "outputs": [
    {
     "data": {
      "text/plain": [
       "LotArea\n",
       "1869.0     106000.0\n",
       "1953.0      83000.0\n",
       "2117.0     168500.0\n",
       "2592.0      85000.0\n",
       "2651.0     165000.0\n",
       "             ...   \n",
       "22950.0    475000.0\n",
       "27650.0    242000.0\n",
       "28698.0    185000.0\n",
       "32463.0    168000.0\n",
       "32668.0    200624.0\n",
       "Name: SalePrice, Length: 140, dtype: float64"
      ]
     },
     "execution_count": 134,
     "metadata": {},
     "output_type": "execute_result"
    }
   ],
   "source": [
    "data.groupby('LotArea')['SalePrice'].mean()"
   ]
  },
  {
   "cell_type": "markdown",
   "id": "1ce1e66f",
   "metadata": {},
   "source": [
    "# 6. Data division in train test sets"
   ]
  },
  {
   "cell_type": "code",
   "execution_count": 135,
   "id": "3a1f99ec",
   "metadata": {},
   "outputs": [],
   "source": [
    "X = data.drop('LotArea', axis=1)\n",
    "y = data['LotArea']\n",
    "X_train, X_test, y_train, y_test = train_test_split(X, y, test_size=0.3, random_state=42)"
   ]
  },
  {
   "cell_type": "markdown",
   "id": "9f22da11",
   "metadata": {},
   "source": [
    "# 7. Model training"
   ]
  },
  {
   "cell_type": "markdown",
   "id": "75b8be48",
   "metadata": {},
   "source": [
    "Linear Regression"
   ]
  },
  {
   "cell_type": "code",
   "execution_count": 136,
   "id": "53706bb0",
   "metadata": {},
   "outputs": [
    {
     "data": {
      "text/html": [
       "<style>#sk-container-id-1 {color: black;background-color: white;}#sk-container-id-1 pre{padding: 0;}#sk-container-id-1 div.sk-toggleable {background-color: white;}#sk-container-id-1 label.sk-toggleable__label {cursor: pointer;display: block;width: 100%;margin-bottom: 0;padding: 0.3em;box-sizing: border-box;text-align: center;}#sk-container-id-1 label.sk-toggleable__label-arrow:before {content: \"▸\";float: left;margin-right: 0.25em;color: #696969;}#sk-container-id-1 label.sk-toggleable__label-arrow:hover:before {color: black;}#sk-container-id-1 div.sk-estimator:hover label.sk-toggleable__label-arrow:before {color: black;}#sk-container-id-1 div.sk-toggleable__content {max-height: 0;max-width: 0;overflow: hidden;text-align: left;background-color: #f0f8ff;}#sk-container-id-1 div.sk-toggleable__content pre {margin: 0.2em;color: black;border-radius: 0.25em;background-color: #f0f8ff;}#sk-container-id-1 input.sk-toggleable__control:checked~div.sk-toggleable__content {max-height: 200px;max-width: 100%;overflow: auto;}#sk-container-id-1 input.sk-toggleable__control:checked~label.sk-toggleable__label-arrow:before {content: \"▾\";}#sk-container-id-1 div.sk-estimator input.sk-toggleable__control:checked~label.sk-toggleable__label {background-color: #d4ebff;}#sk-container-id-1 div.sk-label input.sk-toggleable__control:checked~label.sk-toggleable__label {background-color: #d4ebff;}#sk-container-id-1 input.sk-hidden--visually {border: 0;clip: rect(1px 1px 1px 1px);clip: rect(1px, 1px, 1px, 1px);height: 1px;margin: -1px;overflow: hidden;padding: 0;position: absolute;width: 1px;}#sk-container-id-1 div.sk-estimator {font-family: monospace;background-color: #f0f8ff;border: 1px dotted black;border-radius: 0.25em;box-sizing: border-box;margin-bottom: 0.5em;}#sk-container-id-1 div.sk-estimator:hover {background-color: #d4ebff;}#sk-container-id-1 div.sk-parallel-item::after {content: \"\";width: 100%;border-bottom: 1px solid gray;flex-grow: 1;}#sk-container-id-1 div.sk-label:hover label.sk-toggleable__label {background-color: #d4ebff;}#sk-container-id-1 div.sk-serial::before {content: \"\";position: absolute;border-left: 1px solid gray;box-sizing: border-box;top: 0;bottom: 0;left: 50%;z-index: 0;}#sk-container-id-1 div.sk-serial {display: flex;flex-direction: column;align-items: center;background-color: white;padding-right: 0.2em;padding-left: 0.2em;position: relative;}#sk-container-id-1 div.sk-item {position: relative;z-index: 1;}#sk-container-id-1 div.sk-parallel {display: flex;align-items: stretch;justify-content: center;background-color: white;position: relative;}#sk-container-id-1 div.sk-item::before, #sk-container-id-1 div.sk-parallel-item::before {content: \"\";position: absolute;border-left: 1px solid gray;box-sizing: border-box;top: 0;bottom: 0;left: 50%;z-index: -1;}#sk-container-id-1 div.sk-parallel-item {display: flex;flex-direction: column;z-index: 1;position: relative;background-color: white;}#sk-container-id-1 div.sk-parallel-item:first-child::after {align-self: flex-end;width: 50%;}#sk-container-id-1 div.sk-parallel-item:last-child::after {align-self: flex-start;width: 50%;}#sk-container-id-1 div.sk-parallel-item:only-child::after {width: 0;}#sk-container-id-1 div.sk-dashed-wrapped {border: 1px dashed gray;margin: 0 0.4em 0.5em 0.4em;box-sizing: border-box;padding-bottom: 0.4em;background-color: white;}#sk-container-id-1 div.sk-label label {font-family: monospace;font-weight: bold;display: inline-block;line-height: 1.2em;}#sk-container-id-1 div.sk-label-container {text-align: center;}#sk-container-id-1 div.sk-container {/* jupyter's `normalize.less` sets `[hidden] { display: none; }` but bootstrap.min.css set `[hidden] { display: none !important; }` so we also need the `!important` here to be able to override the default hidden behavior on the sphinx rendered scikit-learn.org. See: https://github.com/scikit-learn/scikit-learn/issues/21755 */display: inline-block !important;position: relative;}#sk-container-id-1 div.sk-text-repr-fallback {display: none;}</style><div id=\"sk-container-id-1\" class=\"sk-top-container\"><div class=\"sk-text-repr-fallback\"><pre>LinearRegression()</pre><b>In a Jupyter environment, please rerun this cell to show the HTML representation or trust the notebook. <br />On GitHub, the HTML representation is unable to render, please try loading this page with nbviewer.org.</b></div><div class=\"sk-container\" hidden><div class=\"sk-item\"><div class=\"sk-estimator sk-toggleable\"><input class=\"sk-toggleable__control sk-hidden--visually\" id=\"sk-estimator-id-1\" type=\"checkbox\" checked><label for=\"sk-estimator-id-1\" class=\"sk-toggleable__label sk-toggleable__label-arrow\">LinearRegression</label><div class=\"sk-toggleable__content\"><pre>LinearRegression()</pre></div></div></div></div></div>"
      ],
      "text/plain": [
       "LinearRegression()"
      ]
     },
     "execution_count": 136,
     "metadata": {},
     "output_type": "execute_result"
    }
   ],
   "source": [
    "lr_model = LinearRegression()\n",
    "lr_model.fit(X_train, y_train)"
   ]
  },
  {
   "cell_type": "markdown",
   "id": "9b44c929",
   "metadata": {},
   "source": [
    " Decision tree regression"
   ]
  },
  {
   "cell_type": "code",
   "execution_count": 137,
   "id": "2d87251e",
   "metadata": {},
   "outputs": [
    {
     "data": {
      "text/html": [
       "<style>#sk-container-id-2 {color: black;background-color: white;}#sk-container-id-2 pre{padding: 0;}#sk-container-id-2 div.sk-toggleable {background-color: white;}#sk-container-id-2 label.sk-toggleable__label {cursor: pointer;display: block;width: 100%;margin-bottom: 0;padding: 0.3em;box-sizing: border-box;text-align: center;}#sk-container-id-2 label.sk-toggleable__label-arrow:before {content: \"▸\";float: left;margin-right: 0.25em;color: #696969;}#sk-container-id-2 label.sk-toggleable__label-arrow:hover:before {color: black;}#sk-container-id-2 div.sk-estimator:hover label.sk-toggleable__label-arrow:before {color: black;}#sk-container-id-2 div.sk-toggleable__content {max-height: 0;max-width: 0;overflow: hidden;text-align: left;background-color: #f0f8ff;}#sk-container-id-2 div.sk-toggleable__content pre {margin: 0.2em;color: black;border-radius: 0.25em;background-color: #f0f8ff;}#sk-container-id-2 input.sk-toggleable__control:checked~div.sk-toggleable__content {max-height: 200px;max-width: 100%;overflow: auto;}#sk-container-id-2 input.sk-toggleable__control:checked~label.sk-toggleable__label-arrow:before {content: \"▾\";}#sk-container-id-2 div.sk-estimator input.sk-toggleable__control:checked~label.sk-toggleable__label {background-color: #d4ebff;}#sk-container-id-2 div.sk-label input.sk-toggleable__control:checked~label.sk-toggleable__label {background-color: #d4ebff;}#sk-container-id-2 input.sk-hidden--visually {border: 0;clip: rect(1px 1px 1px 1px);clip: rect(1px, 1px, 1px, 1px);height: 1px;margin: -1px;overflow: hidden;padding: 0;position: absolute;width: 1px;}#sk-container-id-2 div.sk-estimator {font-family: monospace;background-color: #f0f8ff;border: 1px dotted black;border-radius: 0.25em;box-sizing: border-box;margin-bottom: 0.5em;}#sk-container-id-2 div.sk-estimator:hover {background-color: #d4ebff;}#sk-container-id-2 div.sk-parallel-item::after {content: \"\";width: 100%;border-bottom: 1px solid gray;flex-grow: 1;}#sk-container-id-2 div.sk-label:hover label.sk-toggleable__label {background-color: #d4ebff;}#sk-container-id-2 div.sk-serial::before {content: \"\";position: absolute;border-left: 1px solid gray;box-sizing: border-box;top: 0;bottom: 0;left: 50%;z-index: 0;}#sk-container-id-2 div.sk-serial {display: flex;flex-direction: column;align-items: center;background-color: white;padding-right: 0.2em;padding-left: 0.2em;position: relative;}#sk-container-id-2 div.sk-item {position: relative;z-index: 1;}#sk-container-id-2 div.sk-parallel {display: flex;align-items: stretch;justify-content: center;background-color: white;position: relative;}#sk-container-id-2 div.sk-item::before, #sk-container-id-2 div.sk-parallel-item::before {content: \"\";position: absolute;border-left: 1px solid gray;box-sizing: border-box;top: 0;bottom: 0;left: 50%;z-index: -1;}#sk-container-id-2 div.sk-parallel-item {display: flex;flex-direction: column;z-index: 1;position: relative;background-color: white;}#sk-container-id-2 div.sk-parallel-item:first-child::after {align-self: flex-end;width: 50%;}#sk-container-id-2 div.sk-parallel-item:last-child::after {align-self: flex-start;width: 50%;}#sk-container-id-2 div.sk-parallel-item:only-child::after {width: 0;}#sk-container-id-2 div.sk-dashed-wrapped {border: 1px dashed gray;margin: 0 0.4em 0.5em 0.4em;box-sizing: border-box;padding-bottom: 0.4em;background-color: white;}#sk-container-id-2 div.sk-label label {font-family: monospace;font-weight: bold;display: inline-block;line-height: 1.2em;}#sk-container-id-2 div.sk-label-container {text-align: center;}#sk-container-id-2 div.sk-container {/* jupyter's `normalize.less` sets `[hidden] { display: none; }` but bootstrap.min.css set `[hidden] { display: none !important; }` so we also need the `!important` here to be able to override the default hidden behavior on the sphinx rendered scikit-learn.org. See: https://github.com/scikit-learn/scikit-learn/issues/21755 */display: inline-block !important;position: relative;}#sk-container-id-2 div.sk-text-repr-fallback {display: none;}</style><div id=\"sk-container-id-2\" class=\"sk-top-container\"><div class=\"sk-text-repr-fallback\"><pre>DecisionTreeRegressor(random_state=42)</pre><b>In a Jupyter environment, please rerun this cell to show the HTML representation or trust the notebook. <br />On GitHub, the HTML representation is unable to render, please try loading this page with nbviewer.org.</b></div><div class=\"sk-container\" hidden><div class=\"sk-item\"><div class=\"sk-estimator sk-toggleable\"><input class=\"sk-toggleable__control sk-hidden--visually\" id=\"sk-estimator-id-2\" type=\"checkbox\" checked><label for=\"sk-estimator-id-2\" class=\"sk-toggleable__label sk-toggleable__label-arrow\">DecisionTreeRegressor</label><div class=\"sk-toggleable__content\"><pre>DecisionTreeRegressor(random_state=42)</pre></div></div></div></div></div>"
      ],
      "text/plain": [
       "DecisionTreeRegressor(random_state=42)"
      ]
     },
     "execution_count": 137,
     "metadata": {},
     "output_type": "execute_result"
    }
   ],
   "source": [
    "dt_model = DecisionTreeRegressor(random_state=42)\n",
    "dt_model.fit(X_train, y_train)"
   ]
  },
  {
   "cell_type": "markdown",
   "id": "e214c712",
   "metadata": {},
   "source": [
    "# 8. Model improvement"
   ]
  },
  {
   "cell_type": "markdown",
   "id": "e3f523b2",
   "metadata": {},
   "source": [
    " Linear regression model improvement using cross-validation"
   ]
  },
  {
   "cell_type": "code",
   "execution_count": 138,
   "id": "8d9e911f",
   "metadata": {},
   "outputs": [],
   "source": [
    "lr_scores = cross_val_score(lr_model, X_train, y_train, cv=10, scoring='neg_mean_squared_error')\n",
    "lr_rmse_scores = np.sqrt(-lr_scores)"
   ]
  },
  {
   "cell_type": "code",
   "execution_count": 139,
   "id": "6797968e",
   "metadata": {},
   "outputs": [
    {
     "name": "stdout",
     "output_type": "stream",
     "text": [
      "Linear Regression Scores: [ 4123.84324924  1789.9696449   4932.97821382  3236.70272471\n",
      "  3654.71270033  2409.15141747  2820.7073657   4303.46996319\n",
      "  3457.64555754 21828.68388321]\n",
      "Linear Regression Mean: 5255.786472012505\n",
      "Linear Regression Std Deviation: 5593.492744092252\n"
     ]
    }
   ],
   "source": [
    "print('Linear Regression Scores:', lr_rmse_scores)\n",
    "print('Linear Regression Mean:', lr_rmse_scores.mean())\n",
    "print('Linear Regression Std Deviation:', lr_rmse_scores.std())"
   ]
  },
  {
   "cell_type": "markdown",
   "id": "320476c8",
   "metadata": {},
   "source": [
    "Decision tree regression model improvement using cross-validation"
   ]
  },
  {
   "cell_type": "code",
   "execution_count": 140,
   "id": "82a7bede",
   "metadata": {},
   "outputs": [],
   "source": [
    "dt_scores = cross_val_score(dt_model, X_train, y_train, cv=10, scoring='neg_mean_squared_error')\n",
    "dt_rmse_scores = np.sqrt(-dt_scores)"
   ]
  },
  {
   "cell_type": "code",
   "execution_count": 141,
   "id": "aab0cdb7",
   "metadata": {},
   "outputs": [
    {
     "name": "stdout",
     "output_type": "stream",
     "text": [
      "Decision Tree Regression Scores: [2534.88425413 3744.15506915 7134.66247529 4754.01046008 4457.58846341\n",
      " 1922.87630198 3148.6018802  6949.29151065 5775.31973141 6784.77527262]\n",
      "Decision Tree Regression Mean: 4720.616541891823\n",
      "Decision Tree Regression Std Deviation: 1796.3168451177112\n"
     ]
    }
   ],
   "source": [
    "print('Decision Tree Regression Scores:', dt_rmse_scores)\n",
    "print('Decision Tree Regression Mean:', dt_rmse_scores.mean())\n",
    "print('Decision Tree Regression Std Deviation:', dt_rmse_scores.std())"
   ]
  },
  {
   "cell_type": "markdown",
   "id": "ee6e5d51",
   "metadata": {},
   "source": [
    "# 9. Conclusion"
   ]
  },
  {
   "cell_type": "markdown",
   "id": "69e64aff",
   "metadata": {},
   "source": [
    "In this project, I analyzed a dataset and prepared it for modeling by handling missing values, outliers. I also performed data analysis to gain insights from the data. I split the data into train and test sets and trained two models, linear regression and decision tree regression, to predict a target variable. I used cross-validation to improve the models and measure their performance. Overall, this project helped me gain practical experience in data cleaning, data analysis, and model training."
   ]
  },
  {
   "cell_type": "code",
   "execution_count": 148,
   "id": "e52e7522",
   "metadata": {},
   "outputs": [
    {
     "name": "stdout",
     "output_type": "stream",
     "text": [
      "<class 'pandas.core.frame.DataFrame'>\n",
      "Int64Index: 152 entries, 2 to 1459\n",
      "Data columns (total 29 columns):\n",
      " #   Column         Non-Null Count  Dtype  \n",
      "---  ------         --------------  -----  \n",
      " 0   MSSubClass     152 non-null    float64\n",
      " 1   MSZoning       152 non-null    int32  \n",
      " 2   LotArea        152 non-null    float64\n",
      " 3   Street         152 non-null    int32  \n",
      " 4   LotShape       152 non-null    int32  \n",
      " 5   LandContour    152 non-null    int32  \n",
      " 6   Utilities      152 non-null    int32  \n",
      " 7   Neighborhood   152 non-null    int32  \n",
      " 8   HouseStyle     152 non-null    int32  \n",
      " 9   OverallQual    152 non-null    float64\n",
      " 10  OverallCond    152 non-null    float64\n",
      " 11  YearBuilt      152 non-null    float64\n",
      " 12  YearRemodAdd   152 non-null    float64\n",
      " 13  RoofStyle      152 non-null    int32  \n",
      " 14  RoofMatl       152 non-null    int32  \n",
      " 15  ExterQual      152 non-null    int32  \n",
      " 16  Foundation     152 non-null    int32  \n",
      " 17  TotalBsmtSF    152 non-null    float64\n",
      " 18  Heating        152 non-null    int32  \n",
      " 19  HeatingQC      152 non-null    int32  \n",
      " 20  CentralAir     152 non-null    int32  \n",
      " 21  Electrical     152 non-null    int32  \n",
      " 22  1stFlrSF       152 non-null    int64  \n",
      " 23  2ndFlrSF       152 non-null    int64  \n",
      " 24  BedroomAbvGr   152 non-null    int64  \n",
      " 25  KitchenAbvGr   152 non-null    int64  \n",
      " 26  PoolArea       152 non-null    int64  \n",
      " 27  SaleCondition  152 non-null    int32  \n",
      " 28  SalePrice      152 non-null    int64  \n",
      "dtypes: float64(7), int32(16), int64(6)\n",
      "memory usage: 26.1 KB\n"
     ]
    }
   ],
   "source": [
    "data.info()"
   ]
  },
  {
   "cell_type": "code",
   "execution_count": 149,
   "id": "40eeb718",
   "metadata": {},
   "outputs": [
    {
     "name": "stdout",
     "output_type": "stream",
     "text": [
      "\n",
      "Missing Values:\n",
      "MSSubClass       0\n",
      "MSZoning         0\n",
      "LotArea          0\n",
      "Street           0\n",
      "LotShape         0\n",
      "LandContour      0\n",
      "Utilities        0\n",
      "Neighborhood     0\n",
      "HouseStyle       0\n",
      "OverallQual      0\n",
      "OverallCond      0\n",
      "YearBuilt        0\n",
      "YearRemodAdd     0\n",
      "RoofStyle        0\n",
      "RoofMatl         0\n",
      "ExterQual        0\n",
      "Foundation       0\n",
      "TotalBsmtSF      0\n",
      "Heating          0\n",
      "HeatingQC        0\n",
      "CentralAir       0\n",
      "Electrical       0\n",
      "1stFlrSF         0\n",
      "2ndFlrSF         0\n",
      "BedroomAbvGr     0\n",
      "KitchenAbvGr     0\n",
      "PoolArea         0\n",
      "SaleCondition    0\n",
      "SalePrice        0\n",
      "dtype: int64\n"
     ]
    }
   ],
   "source": [
    "missing_values = data.isnull().sum()\n",
    "print('\\nMissing Values:')\n",
    "print(missing_values)"
   ]
  },
  {
   "cell_type": "code",
   "execution_count": 150,
   "id": "60489d92",
   "metadata": {},
   "outputs": [
    {
     "name": "stdout",
     "output_type": "stream",
     "text": [
      "\n",
      "Unique Values:\n",
      "MSSubClass        13\n",
      "MSZoning           5\n",
      "LotArea          140\n",
      "Street             3\n",
      "LotShape           3\n",
      "LandContour        4\n",
      "Utilities          1\n",
      "Neighborhood      23\n",
      "HouseStyle         8\n",
      "OverallQual       10\n",
      "OverallCond        8\n",
      "YearBuilt         68\n",
      "YearRemodAdd      48\n",
      "RoofStyle          3\n",
      "RoofMatl           3\n",
      "ExterQual          4\n",
      "Foundation         5\n",
      "TotalBsmtSF      132\n",
      "Heating            2\n",
      "HeatingQC          4\n",
      "CentralAir         2\n",
      "Electrical         4\n",
      "1stFlrSF         140\n",
      "2ndFlrSF          57\n",
      "BedroomAbvGr       5\n",
      "KitchenAbvGr       2\n",
      "PoolArea           3\n",
      "SaleCondition      5\n",
      "SalePrice        128\n",
      "dtype: int64\n"
     ]
    }
   ],
   "source": [
    "print('\\nUnique Values:')\n",
    "print(unique_values)"
   ]
  },
  {
   "cell_type": "code",
   "execution_count": 151,
   "id": "53fc51ae",
   "metadata": {},
   "outputs": [
    {
     "data": {
      "image/png": "[encoded data removed]",
      "text/plain": [
       "<Figure size 1000x1000 with 30 Axes>"
      ]
     },
     "metadata": {},
     "output_type": "display_data"
    }
   ],
   "source": [
    "import matplotlib.pyplot as plt\n",
    "\n",
    "data.hist(bins=10, figsize=(10,10))\n",
    "plt.show()"
   ]
  }
 ],
 "metadata": {
  "kernelspec": {
   "display_name": "Python 3 (ipykernel)",
   "language": "python",
   "name": "python3"
  },
  "language_info": {
   "codemirror_mode": {
    "name": "ipython",
    "version": 3
   },
   "file_extension": ".py",
   "mimetype": "text/x-python",
   "name": "python",
   "nbconvert_exporter": "python",
   "pygments_lexer": "ipython3",
   "version": "3.11.1"
  }
 },
 "nbformat": 4,
 "nbformat_minor": 5
}
