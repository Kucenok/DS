{
 "cells": [
  {
   "cell_type": "markdown",
   "id": "302bb51c",
   "metadata": {
    "id": "302bb51c"
   },
   "source": [
    "## Data Encoding, Data Normalization and Data Scaling"
   ]
  },
  {
   "cell_type": "markdown",
   "id": "d7d7492f",
   "metadata": {
    "id": "d7d7492f"
   },
   "source": [
    "The purpose of this practice class - get familiar with data preprocessing techniques as categorical features encoding, data normalization and data scaling."
   ]
  },
  {
   "cell_type": "markdown",
   "id": "3ae4dbf2",
   "metadata": {
    "id": "3ae4dbf2"
   },
   "source": [
    "Data are collected from Kickstarter Platform (https://www.kickstarter.com/)"
   ]
  },
  {
   "cell_type": "code",
   "execution_count": 1,
   "id": "cffa8223",
   "metadata": {
    "id": "cffa8223"
   },
   "outputs": [],
   "source": [
    "# Setting the environment\n",
    "\n",
    "# basic modules\n",
    "import numpy as np\n",
    "import pandas as pd\n",
    "\n",
    "# label encoding\n",
    "from sklearn import preprocessing\n",
    "\n",
    "# Box-Cox Transformation\n",
    "from scipy import stats\n",
    "\n",
    "# min_max scaling\n",
    "from mlxtend.preprocessing import minmax_scaling\n",
    "\n",
    "# visualization\n",
    "import seaborn as sns\n",
    "import matplotlib.pyplot as plt"
   ]
  },
  {
   "cell_type": "markdown",
   "id": "2cd3aac8",
   "metadata": {
    "id": "2cd3aac8"
   },
   "source": [
    "----"
   ]
  },
  {
   "cell_type": "code",
   "execution_count": 2,
   "id": "60993c07",
   "metadata": {
    "id": "60993c07"
   },
   "outputs": [],
   "source": [
    "# Read you data\n",
    "\n",
    "data = pd.read_csv(\"ks-projects-2018.csv\", parse_dates=['deadline', 'launched'])"
   ]
  },
  {
   "cell_type": "code",
   "execution_count": 4,
   "id": "8b63b453",
   "metadata": {
    "id": "8b63b453"
   },
   "outputs": [
    {
     "data": {
      "text/html": [
       "<div>\n",
       "<style scoped>\n",
       "    .dataframe tbody tr th:only-of-type {\n",
       "        vertical-align: middle;\n",
       "    }\n",
       "\n",
       "    .dataframe tbody tr th {\n",
       "        vertical-align: top;\n",
       "    }\n",
       "\n",
       "    .dataframe thead th {\n",
       "        text-align: right;\n",
       "    }\n",
       "</style>\n",
       "<table border=\"1\" class=\"dataframe\">\n",
       "  <thead>\n",
       "    <tr style=\"text-align: right;\">\n",
       "      <th></th>\n",
       "      <th>ID</th>\n",
       "      <th>name</th>\n",
       "      <th>category</th>\n",
       "      <th>main_category</th>\n",
       "      <th>currency</th>\n",
       "      <th>deadline</th>\n",
       "      <th>goal</th>\n",
       "      <th>launched</th>\n",
       "      <th>pledged</th>\n",
       "      <th>state</th>\n",
       "      <th>backers</th>\n",
       "      <th>country</th>\n",
       "      <th>usd pledged</th>\n",
       "      <th>usd_pledged_real</th>\n",
       "      <th>usd_goal_real</th>\n",
       "    </tr>\n",
       "  </thead>\n",
       "  <tbody>\n",
       "    <tr>\n",
       "      <th>0</th>\n",
       "      <td>1415612904</td>\n",
       "      <td>LEGACY OF COOL</td>\n",
       "      <td>Fashion</td>\n",
       "      <td>Fashion</td>\n",
       "      <td>USD</td>\n",
       "      <td>2012-12-12</td>\n",
       "      <td>210000.00</td>\n",
       "      <td>2012-11-12 17:48:40</td>\n",
       "      <td>76628.0</td>\n",
       "      <td>failed</td>\n",
       "      <td>117</td>\n",
       "      <td>US</td>\n",
       "      <td>76628.00</td>\n",
       "      <td>76628.0</td>\n",
       "      <td>210000.00</td>\n",
       "    </tr>\n",
       "    <tr>\n",
       "      <th>1</th>\n",
       "      <td>1857414265</td>\n",
       "      <td>UBU - University By U</td>\n",
       "      <td>Web</td>\n",
       "      <td>Technology</td>\n",
       "      <td>GBP</td>\n",
       "      <td>2015-01-22</td>\n",
       "      <td>9000.00</td>\n",
       "      <td>2015-01-02 00:51:02</td>\n",
       "      <td>1.0</td>\n",
       "      <td>failed</td>\n",
       "      <td>1</td>\n",
       "      <td>GB</td>\n",
       "      <td>1.56</td>\n",
       "      <td>1.5</td>\n",
       "      <td>13486.18</td>\n",
       "    </tr>\n",
       "    <tr>\n",
       "      <th>2</th>\n",
       "      <td>1450979503</td>\n",
       "      <td>Small Town Restaurants</td>\n",
       "      <td>Nonfiction</td>\n",
       "      <td>Publishing</td>\n",
       "      <td>USD</td>\n",
       "      <td>2013-05-27</td>\n",
       "      <td>30000.00</td>\n",
       "      <td>2013-04-27 16:28:19</td>\n",
       "      <td>1505.0</td>\n",
       "      <td>failed</td>\n",
       "      <td>8</td>\n",
       "      <td>US</td>\n",
       "      <td>1505.00</td>\n",
       "      <td>1505.0</td>\n",
       "      <td>30000.00</td>\n",
       "    </tr>\n",
       "    <tr>\n",
       "      <th>3</th>\n",
       "      <td>1125626743</td>\n",
       "      <td>This Is Why We Do (Canceled)</td>\n",
       "      <td>Hip-Hop</td>\n",
       "      <td>Music</td>\n",
       "      <td>USD</td>\n",
       "      <td>2016-02-20</td>\n",
       "      <td>3000.00</td>\n",
       "      <td>2016-01-21 06:54:15</td>\n",
       "      <td>1.0</td>\n",
       "      <td>canceled</td>\n",
       "      <td>1</td>\n",
       "      <td>US</td>\n",
       "      <td>1.00</td>\n",
       "      <td>1.0</td>\n",
       "      <td>3000.00</td>\n",
       "    </tr>\n",
       "    <tr>\n",
       "      <th>4</th>\n",
       "      <td>1933562448</td>\n",
       "      <td>Be Part of Alex Berger's Debut Record!</td>\n",
       "      <td>Music</td>\n",
       "      <td>Music</td>\n",
       "      <td>USD</td>\n",
       "      <td>2010-01-03</td>\n",
       "      <td>3172.91</td>\n",
       "      <td>2009-12-09 20:49:16</td>\n",
       "      <td>5493.0</td>\n",
       "      <td>successful</td>\n",
       "      <td>81</td>\n",
       "      <td>US</td>\n",
       "      <td>5493.00</td>\n",
       "      <td>5493.0</td>\n",
       "      <td>3172.91</td>\n",
       "    </tr>\n",
       "  </tbody>\n",
       "</table>\n",
       "</div>"
      ],
      "text/plain": [
       "           ID                                     name    category  \\\n",
       "0  1415612904                           LEGACY OF COOL     Fashion   \n",
       "1  1857414265                    UBU - University By U         Web   \n",
       "2  1450979503                   Small Town Restaurants  Nonfiction   \n",
       "3  1125626743             This Is Why We Do (Canceled)     Hip-Hop   \n",
       "4  1933562448  Be Part of Alex Berger's Debut Record!        Music   \n",
       "\n",
       "  main_category currency   deadline       goal            launched  pledged  \\\n",
       "0       Fashion      USD 2012-12-12  210000.00 2012-11-12 17:48:40  76628.0   \n",
       "1    Technology      GBP 2015-01-22    9000.00 2015-01-02 00:51:02      1.0   \n",
       "2    Publishing      USD 2013-05-27   30000.00 2013-04-27 16:28:19   1505.0   \n",
       "3         Music      USD 2016-02-20    3000.00 2016-01-21 06:54:15      1.0   \n",
       "4         Music      USD 2010-01-03    3172.91 2009-12-09 20:49:16   5493.0   \n",
       "\n",
       "        state  backers country  usd pledged  usd_pledged_real  usd_goal_real  \n",
       "0      failed      117      US     76628.00           76628.0      210000.00  \n",
       "1      failed        1      GB         1.56               1.5       13486.18  \n",
       "2      failed        8      US      1505.00            1505.0       30000.00  \n",
       "3    canceled        1      US         1.00               1.0        3000.00  \n",
       "4  successful       81      US      5493.00            5493.0        3172.91  "
      ]
     },
     "execution_count": 4,
     "metadata": {},
     "output_type": "execute_result"
    }
   ],
   "source": [
    "# From what you learned before - take a first look at your data\n",
    "\n",
    "data.head()"
   ]
  },
  {
   "cell_type": "code",
   "execution_count": 5,
   "id": "630586b1",
   "metadata": {
    "id": "630586b1"
   },
   "outputs": [
    {
     "data": {
      "text/plain": [
       "(170397, 15)"
      ]
     },
     "execution_count": 5,
     "metadata": {},
     "output_type": "execute_result"
    }
   ],
   "source": [
    "# Let's see how big is our dataset\n",
    "\n",
    "data.shape"
   ]
  },
  {
   "cell_type": "code",
   "execution_count": 6,
   "id": "775b958a",
   "metadata": {
    "id": "775b958a"
   },
   "outputs": [
    {
     "name": "stdout",
     "output_type": "stream",
     "text": [
      "<class 'pandas.core.frame.DataFrame'>\n",
      "RangeIndex: 170397 entries, 0 to 170396\n",
      "Data columns (total 15 columns):\n",
      " #   Column            Non-Null Count   Dtype         \n",
      "---  ------            --------------   -----         \n",
      " 0   ID                170397 non-null  int64         \n",
      " 1   name              170395 non-null  object        \n",
      " 2   category          170397 non-null  object        \n",
      " 3   main_category     170397 non-null  object        \n",
      " 4   currency          170397 non-null  object        \n",
      " 5   deadline          170397 non-null  datetime64[ns]\n",
      " 6   goal              170397 non-null  float64       \n",
      " 7   launched          170397 non-null  datetime64[ns]\n",
      " 8   pledged           170397 non-null  float64       \n",
      " 9   state             170397 non-null  object        \n",
      " 10  backers           170397 non-null  int64         \n",
      " 11  country           170397 non-null  object        \n",
      " 12  usd pledged       168659 non-null  float64       \n",
      " 13  usd_pledged_real  170397 non-null  float64       \n",
      " 14  usd_goal_real     170397 non-null  float64       \n",
      "dtypes: datetime64[ns](2), float64(5), int64(2), object(6)\n",
      "memory usage: 19.5+ MB\n"
     ]
    }
   ],
   "source": [
    "# Let's have some useful information about our dataset\n",
    "\n",
    "data.info()"
   ]
  },
  {
   "cell_type": "code",
   "execution_count": 7,
   "id": "102c879a",
   "metadata": {
    "id": "102c879a"
   },
   "outputs": [
    {
     "name": "stdout",
     "output_type": "stream",
     "text": [
      "1738\n"
     ]
    }
   ],
   "source": [
    "# Handle the missing values in \"usd pledged\" column\n",
    "\n",
    "# your code goes here\n",
    "missing_values = data['usd pledged'].isnull().sum()\n",
    "print(missing_values)\n"
   ]
  },
  {
   "cell_type": "code",
   "execution_count": 8,
   "id": "8e770cf1",
   "metadata": {
    "id": "8e770cf1"
   },
   "outputs": [],
   "source": [
    "# Remove unnecessary ID column\n",
    "\n",
    "data.dropna(subset=['usd pledged'], inplace=True)"
   ]
  },
  {
   "cell_type": "markdown",
   "id": "9bc87995",
   "metadata": {
    "id": "9bc87995"
   },
   "source": [
    "-----"
   ]
  },
  {
   "cell_type": "markdown",
   "id": "b6bdd877",
   "metadata": {
    "id": "b6bdd877"
   },
   "source": [
    "### Categorical features encoding"
   ]
  },
  {
   "cell_type": "markdown",
   "id": "0cee9daa",
   "metadata": {
    "id": "0cee9daa"
   },
   "source": [
    "Apply Label encoding from sklearn to \"category\", \"main category\" and \"country\" columns"
   ]
  },
  {
   "cell_type": "markdown",
   "id": "921326a3",
   "metadata": {
    "id": "921326a3"
   },
   "source": [
    "Save encoded columns as a new column of dataset named respectively \"cat_enc\", \"maincat_enc\", \"country_enc\""
   ]
  },
  {
   "cell_type": "markdown",
   "id": "4c6c7cdf",
   "metadata": {
    "id": "4c6c7cdf"
   },
   "source": [
    "Follow this quick guide to use label encoder from sklearn package\n",
    "https://scikit-learn.org/stable/modules/generated/sklearn.preprocessing.LabelEncoder.html"
   ]
  },
  {
   "cell_type": "code",
   "execution_count": null,
   "id": "ac68312c",
   "metadata": {
    "id": "ac68312c",
    "outputId": "a44d737a-b981-4d57-eea7-062b09a0071b"
   },
   "outputs": [
    {
     "data": {
      "text/plain": [
       "array([0, 1, 3, 4, 2])"
      ]
     },
     "execution_count": 112,
     "metadata": {},
     "output_type": "execute_result"
    }
   ],
   "source": [
    "# quick example\n",
    "\n",
    "# creating a model instance\n",
    "label_enc = preprocessing.LabelEncoder()\n",
    "\n",
    "# random data\n",
    "data_tmp = ['apple', 'banana', 'mango', 'orange', 'lemon']\n",
    "\n",
    "# fitting (training) the model\n",
    "label_enc.fit(data_tmp)\n",
    "\n",
    "# outputting our encoded data\n",
    "label_enc.transform(data_tmp)\n",
    "\n",
    "# here you see that each category value was mapped (encoded) into a numerical value"
   ]
  },
  {
   "cell_type": "markdown",
   "id": "da0fb710",
   "metadata": {
    "id": "da0fb710"
   },
   "source": [
    "![image.png](attachment:image.png)"
   ]
  },
  {
   "cell_type": "code",
   "execution_count": 10,
   "id": "298476a8",
   "metadata": {
    "id": "298476a8"
   },
   "outputs": [],
   "source": [
    "# Label encoding of \"category\" column\n",
    "\n",
    "# your code goes here\n",
    "label = preprocessing.LabelEncoder()\n",
    "data['category_encoded'] = label.fit_transform(data['category'])\n",
    "\n"
   ]
  },
  {
   "cell_type": "code",
   "execution_count": 12,
   "id": "4f6099a2",
   "metadata": {
    "id": "4f6099a2"
   },
   "outputs": [],
   "source": [
    "# Label encoding of \"main_category\" column\n",
    "\n",
    "# your code goes here\n",
    "label = preprocessing.LabelEncoder()\n",
    "data['main_category_encoded'] = label.fit_transform(data['main_category'])\n",
    "\n"
   ]
  },
  {
   "cell_type": "code",
   "execution_count": 13,
   "id": "49e7b377",
   "metadata": {
    "id": "49e7b377"
   },
   "outputs": [],
   "source": [
    "# Label encoding of \"country\" column\n",
    "\n",
    "# your code goes here\n",
    "label = preprocessing.LabelEncoder()\n",
    "data['country_encoded'] = label.fit_transform(data['country'])\n",
    "\n"
   ]
  },
  {
   "cell_type": "markdown",
   "id": "de63d05f",
   "metadata": {
    "id": "de63d05f"
   },
   "source": [
    "Apply OneHot encoding to \"state\" and \"main category\" columns"
   ]
  },
  {
   "cell_type": "markdown",
   "id": "bfc0f74b",
   "metadata": {
    "id": "bfc0f74b"
   },
   "source": [
    "OneHot encoding might be a bit challenging, but if you will folow this guideline - everything will work perfectly\n",
    "<br/>\n",
    "https://scikit-learn.org/stable/modules/generated/sklearn.preprocessing.OneHotEncoder.html#sklearn.preprocessing.OneHotEncoder"
   ]
  },
  {
   "cell_type": "markdown",
   "id": "d8afeeb7",
   "metadata": {
    "id": "d8afeeb7"
   },
   "source": [
    "Add your OneHot Encoded columns to your initial dataset"
   ]
  },
  {
   "cell_type": "code",
   "execution_count": null,
   "id": "0df8e893",
   "metadata": {
    "id": "0df8e893",
    "outputId": "55911aaf-6b37-4809-996b-29e9b827815f"
   },
   "outputs": [
    {
     "name": "stdout",
     "output_type": "stream",
     "text": [
      "['x0_apple' 'x0_kiwi' 'x0_lemon' 'x0_orange']\n",
      "[[1. 0. 0. 0.]\n",
      " [0. 1. 0. 0.]\n",
      " [1. 0. 0. 0.]\n",
      " [0. 0. 1. 0.]\n",
      " [0. 0. 0. 1.]]\n"
     ]
    }
   ],
   "source": [
    "# quick example\n",
    "\n",
    "# creating a model instance\n",
    "onehot_enc = preprocessing.OneHotEncoder()\n",
    "\n",
    "# random data\n",
    "data_tmp = [['apple'],\n",
    "            [ 'kiwi'], \n",
    "            ['apple'],\n",
    "            ['lemon'],\n",
    "            ['orange']]\n",
    "\n",
    "# fitting (training) the model\n",
    "onehot_enc.fit(data_tmp)\n",
    "\n",
    "# outputting names of columns and our encoded data \n",
    "print(onehot_enc.get_feature_names_out())\n",
    "print(onehot_enc.transform(data_tmp).toarray())\n",
    "\n",
    "# here you see that for each categorical value a new column was created and named\n",
    "# as \"x0_apple\", ..., so instead of having one column with 4 values now we have \n",
    "# 4 columns with 2 possible values - 1 or 0"
   ]
  },
  {
   "cell_type": "markdown",
   "id": "dcd5b563",
   "metadata": {
    "id": "dcd5b563"
   },
   "source": [
    "![image-2.png](attachment:image-2.png)"
   ]
  },
  {
   "cell_type": "code",
   "execution_count": 18,
   "id": "7a4b8f14",
   "metadata": {
    "id": "7a4b8f14"
   },
   "outputs": [],
   "source": [
    "# OneHot encoding of \"state\" column\n",
    "\n",
    "# your code goes here\n",
    "onehot = preprocessing.OneHotEncoder()\n",
    "state_onehot = onehot.fit_transform(data[['state']])\n",
    "state_label = onehot.get_feature_names_out(['state'])\n",
    "state_data = pd.DataFrame(state_onehot.toarray(), columns=state_label)\n",
    "\n",
    "\n"
   ]
  },
  {
   "cell_type": "code",
   "execution_count": 19,
   "id": "4b9cfb39",
   "metadata": {
    "id": "4b9cfb39"
   },
   "outputs": [],
   "source": [
    "# OneHot encoding of \"main_category\" column\n",
    "\n",
    "# your code goes here\n",
    "onehot = preprocessing.OneHotEncoder()\n",
    "state_onehot = onehot.fit_transform(data[['main_category']])\n",
    "state_label = onehot.get_feature_names_out(['main_category'])\n",
    "state_data = pd.DataFrame(state_onehot.toarray(), columns=state_label)\n",
    "\n",
    "\n"
   ]
  },
  {
   "cell_type": "markdown",
   "id": "103080c4",
   "metadata": {
    "id": "103080c4"
   },
   "source": [
    "What are the pros and cons for applying Label encoding and OneHot encoding for \"main_category\" column?\n",
    "Write your answer below."
   ]
  },
  {
   "cell_type": "markdown",
   "id": "dafa4d8e",
   "metadata": {
    "id": "5c8f344a"
   },
   "source": [
    "Label Encoding:\n",
    "Pros:\n",
    "\n",
    "Simple and easy to implement\n",
    "Can reduce dimensionality of the dataset\n",
    "Useful when the categories have an inherent order or ranking to them\n",
    "\n",
    "Cons:\n",
    "\n",
    "May introduce bias into the model\n",
    "Can be problematic when the categories do not have an inherent order or ranking to them\n",
    "\n",
    "OneHot Encoding:\n",
    "Pros:\n",
    "\n",
    "Can capture all the information present in the categorical variable\n",
    "Useful when the categories do not have an inherent order or ranking to them\n",
    "Useful when the categorical variable has a small number of categories\n",
    "\n",
    "Cons:\n",
    "\n",
    "Increases dimensionality of the dataset\n",
    "Can lead to computational and memory issues when the categorical variable has a large number of categories"
   ]
  },
  {
   "cell_type": "markdown",
   "id": "5cff0e4d",
   "metadata": {
    "id": "5cff0e4d"
   },
   "source": [
    "#### Hash encoding"
   ]
  },
  {
   "cell_type": "markdown",
   "id": "ddc174d3",
   "metadata": {
    "id": "ddc174d3"
   },
   "source": [
    "Now, once you are more familiar with 2 encoding methods - you will apply hash encoding to \"country\" column"
   ]
  },
  {
   "cell_type": "markdown",
   "id": "3473145c",
   "metadata": {
    "id": "3473145c"
   },
   "source": [
    "Follow this link and install category_encoders package <br/>https://contrib.scikit-learn.org/category_encoders/index.html"
   ]
  },
  {
   "cell_type": "code",
   "execution_count": 21,
   "id": "94d6b481",
   "metadata": {
    "id": "94d6b481"
   },
   "outputs": [],
   "source": [
    "#Now, once the package was installed run this code\n",
    "import category_encoders as cat_e"
   ]
  },
  {
   "cell_type": "markdown",
   "id": "fa76e9fe",
   "metadata": {
    "id": "fa76e9fe"
   },
   "source": [
    "Follow this link https://contrib.scikit-learn.org/category_encoders/hashing.html#\n",
    "to use HashEncoder on your data\n",
    "<br/>\n",
    "Or check out this quick tutorial https://towardsdatascience.com/4-categorical-encoding-concepts-to-know-for-data-scientists-e144851c6383"
   ]
  },
  {
   "cell_type": "code",
   "execution_count": 25,
   "id": "fed76c4a",
   "metadata": {
    "id": "fed76c4a"
   },
   "outputs": [
    {
     "data": {
      "text/html": [
       "<div>\n",
       "<style scoped>\n",
       "    .dataframe tbody tr th:only-of-type {\n",
       "        vertical-align: middle;\n",
       "    }\n",
       "\n",
       "    .dataframe tbody tr th {\n",
       "        vertical-align: top;\n",
       "    }\n",
       "\n",
       "    .dataframe thead th {\n",
       "        text-align: right;\n",
       "    }\n",
       "</style>\n",
       "<table border=\"1\" class=\"dataframe\">\n",
       "  <thead>\n",
       "    <tr style=\"text-align: right;\">\n",
       "      <th></th>\n",
       "      <th>col_0</th>\n",
       "      <th>col_1</th>\n",
       "      <th>col_2</th>\n",
       "      <th>col_3</th>\n",
       "      <th>col_4</th>\n",
       "      <th>ID</th>\n",
       "      <th>name</th>\n",
       "      <th>category</th>\n",
       "      <th>main_category</th>\n",
       "      <th>currency</th>\n",
       "      <th>...</th>\n",
       "      <th>pledged</th>\n",
       "      <th>state</th>\n",
       "      <th>backers</th>\n",
       "      <th>country</th>\n",
       "      <th>usd pledged</th>\n",
       "      <th>usd_pledged_real</th>\n",
       "      <th>usd_goal_real</th>\n",
       "      <th>category_encoded</th>\n",
       "      <th>main_category_encoded</th>\n",
       "      <th>country_encoded</th>\n",
       "    </tr>\n",
       "  </thead>\n",
       "  <tbody>\n",
       "    <tr>\n",
       "      <th>36244</th>\n",
       "      <td>0</td>\n",
       "      <td>0</td>\n",
       "      <td>0</td>\n",
       "      <td>1</td>\n",
       "      <td>0</td>\n",
       "      <td>1807232986</td>\n",
       "      <td>World of Aerithn</td>\n",
       "      <td>Tabletop Games</td>\n",
       "      <td>Games</td>\n",
       "      <td>CAD</td>\n",
       "      <td>...</td>\n",
       "      <td>240.0</td>\n",
       "      <td>failed</td>\n",
       "      <td>5</td>\n",
       "      <td>CA</td>\n",
       "      <td>223.59</td>\n",
       "      <td>220.18</td>\n",
       "      <td>917.43</td>\n",
       "      <td>136</td>\n",
       "      <td>8</td>\n",
       "      <td>3</td>\n",
       "    </tr>\n",
       "    <tr>\n",
       "      <th>77803</th>\n",
       "      <td>0</td>\n",
       "      <td>0</td>\n",
       "      <td>1</td>\n",
       "      <td>0</td>\n",
       "      <td>0</td>\n",
       "      <td>277308533</td>\n",
       "      <td>Restore Ownership of Little River Band</td>\n",
       "      <td>Rock</td>\n",
       "      <td>Music</td>\n",
       "      <td>USD</td>\n",
       "      <td>...</td>\n",
       "      <td>20.0</td>\n",
       "      <td>failed</td>\n",
       "      <td>1</td>\n",
       "      <td>US</td>\n",
       "      <td>20.00</td>\n",
       "      <td>20.00</td>\n",
       "      <td>1000000.00</td>\n",
       "      <td>125</td>\n",
       "      <td>10</td>\n",
       "      <td>21</td>\n",
       "    </tr>\n",
       "    <tr>\n",
       "      <th>60629</th>\n",
       "      <td>0</td>\n",
       "      <td>0</td>\n",
       "      <td>1</td>\n",
       "      <td>0</td>\n",
       "      <td>0</td>\n",
       "      <td>575038066</td>\n",
       "      <td>Although I Deserve To Die Movie</td>\n",
       "      <td>Film &amp; Video</td>\n",
       "      <td>Film &amp; Video</td>\n",
       "      <td>USD</td>\n",
       "      <td>...</td>\n",
       "      <td>1.0</td>\n",
       "      <td>failed</td>\n",
       "      <td>1</td>\n",
       "      <td>US</td>\n",
       "      <td>1.00</td>\n",
       "      <td>1.00</td>\n",
       "      <td>2275000.00</td>\n",
       "      <td>55</td>\n",
       "      <td>6</td>\n",
       "      <td>21</td>\n",
       "    </tr>\n",
       "    <tr>\n",
       "      <th>142490</th>\n",
       "      <td>0</td>\n",
       "      <td>0</td>\n",
       "      <td>0</td>\n",
       "      <td>1</td>\n",
       "      <td>0</td>\n",
       "      <td>1612421814</td>\n",
       "      <td>Das Hemd das nicht aus der Hose rutscht</td>\n",
       "      <td>Apparel</td>\n",
       "      <td>Fashion</td>\n",
       "      <td>EUR</td>\n",
       "      <td>...</td>\n",
       "      <td>0.0</td>\n",
       "      <td>failed</td>\n",
       "      <td>0</td>\n",
       "      <td>DE</td>\n",
       "      <td>0.00</td>\n",
       "      <td>0.00</td>\n",
       "      <td>110059.43</td>\n",
       "      <td>7</td>\n",
       "      <td>5</td>\n",
       "      <td>5</td>\n",
       "    </tr>\n",
       "    <tr>\n",
       "      <th>124248</th>\n",
       "      <td>0</td>\n",
       "      <td>0</td>\n",
       "      <td>1</td>\n",
       "      <td>0</td>\n",
       "      <td>0</td>\n",
       "      <td>678525505</td>\n",
       "      <td>Guest Wedding Photo Apps</td>\n",
       "      <td>Apps</td>\n",
       "      <td>Technology</td>\n",
       "      <td>USD</td>\n",
       "      <td>...</td>\n",
       "      <td>0.0</td>\n",
       "      <td>failed</td>\n",
       "      <td>0</td>\n",
       "      <td>US</td>\n",
       "      <td>0.00</td>\n",
       "      <td>0.00</td>\n",
       "      <td>5000.00</td>\n",
       "      <td>8</td>\n",
       "      <td>13</td>\n",
       "      <td>21</td>\n",
       "    </tr>\n",
       "  </tbody>\n",
       "</table>\n",
       "<p>5 rows × 23 columns</p>\n",
       "</div>"
      ],
      "text/plain": [
       "        col_0  col_1  col_2  col_3  col_4          ID  \\\n",
       "36244       0      0      0      1      0  1807232986   \n",
       "77803       0      0      1      0      0   277308533   \n",
       "60629       0      0      1      0      0   575038066   \n",
       "142490      0      0      0      1      0  1612421814   \n",
       "124248      0      0      1      0      0   678525505   \n",
       "\n",
       "                                           name        category main_category  \\\n",
       "36244                          World of Aerithn  Tabletop Games         Games   \n",
       "77803    Restore Ownership of Little River Band            Rock         Music   \n",
       "60629           Although I Deserve To Die Movie    Film & Video  Film & Video   \n",
       "142490  Das Hemd das nicht aus der Hose rutscht         Apparel       Fashion   \n",
       "124248                 Guest Wedding Photo Apps            Apps    Technology   \n",
       "\n",
       "       currency  ... pledged   state backers  country usd pledged  \\\n",
       "36244       CAD  ...   240.0  failed       5       CA      223.59   \n",
       "77803       USD  ...    20.0  failed       1       US       20.00   \n",
       "60629       USD  ...     1.0  failed       1       US        1.00   \n",
       "142490      EUR  ...     0.0  failed       0       DE        0.00   \n",
       "124248      USD  ...     0.0  failed       0       US        0.00   \n",
       "\n",
       "        usd_pledged_real usd_goal_real  category_encoded  \\\n",
       "36244             220.18        917.43               136   \n",
       "77803              20.00    1000000.00               125   \n",
       "60629               1.00    2275000.00                55   \n",
       "142490              0.00     110059.43                 7   \n",
       "124248              0.00       5000.00                 8   \n",
       "\n",
       "        main_category_encoded  country_encoded  \n",
       "36244                       8                3  \n",
       "77803                      10               21  \n",
       "60629                       6               21  \n",
       "142490                      5                5  \n",
       "124248                     13               21  \n",
       "\n",
       "[5 rows x 23 columns]"
      ]
     },
     "execution_count": 25,
     "metadata": {},
     "output_type": "execute_result"
    }
   ],
   "source": [
    "# HashEncoding of your \"country\" column\n",
    "\n",
    "# your code goes here\n",
    "encoder=cat_e.HashingEncoder(cols='country',n_components=5)\n",
    "hash_res = encoder.fit_transform(data['country'])\n",
    "hash_res.sample(5)\n",
    "pd.concat([encoder.fit_transform(data['country']), data], axis =1).sample(5)\n"
   ]
  },
  {
   "cell_type": "markdown",
   "id": "e303d881",
   "metadata": {
    "id": "e303d881"
   },
   "source": [
    "----"
   ]
  },
  {
   "cell_type": "markdown",
   "id": "05c9c7a1",
   "metadata": {
    "id": "05c9c7a1"
   },
   "source": [
    "### Data Normalization and Data Scaling"
   ]
  },
  {
   "cell_type": "markdown",
   "id": "9af4f4e8",
   "metadata": {
    "id": "9af4f4e8"
   },
   "source": [
    "We will use \"usd_goal_real\" column to apply min-max scaling\n",
    "<br/>\n",
    "But, first, sample like 15-20% of your initial dataset - it might take longer time to apply \n",
    "transformation on entire dataset"
   ]
  },
  {
   "cell_type": "code",
   "execution_count": 29,
   "id": "9c66cbe6",
   "metadata": {
    "id": "9c66cbe6"
   },
   "outputs": [
    {
     "name": "stdout",
     "output_type": "stream",
     "text": [
      "               ID                                               name  \\\n",
      "157537  550409822                               Art of Man - Upgrade   \n",
      "143860  653763938                                     Going for Kona   \n",
      "81483   614983065                             Terry The Traumasaurus   \n",
      "122532   50119110  VoiceLots- The Social Network for Social Justi...   \n",
      "63782   198786764                      Customize ME! The Documentary   \n",
      "\n",
      "                category main_category currency   deadline     goal  \\\n",
      "157537         Art Books    Publishing      USD 2012-01-19   5000.0   \n",
      "143860           Fiction    Publishing      USD 2014-07-10    750.0   \n",
      "81483   Children's Books    Publishing      CAD 2015-03-25  40000.0   \n",
      "122532              Apps    Technology      USD 2015-04-29  15000.0   \n",
      "63782        Documentary  Film & Video      USD 2016-05-11   5000.0   \n",
      "\n",
      "                  launched  pledged       state  backers country  usd pledged  \\\n",
      "157537 2011-12-20 23:51:09     80.0      failed        2      US        80.00   \n",
      "143860 2014-06-10 03:09:04    985.0  successful       19      US       985.00   \n",
      "81483  2015-02-23 18:27:08     64.0      failed        2      CA        51.07   \n",
      "122532 2015-03-30 20:41:17    100.0    canceled        1      US       100.00   \n",
      "63782  2016-04-11 16:34:30     21.0      failed        3      US        21.00   \n",
      "\n",
      "        usd_pledged_real  usd_goal_real  category_encoded  \\\n",
      "157537             80.00        5000.00                11   \n",
      "143860            985.00         750.00                54   \n",
      "81483              51.16       31976.98                19   \n",
      "122532            100.00       15000.00                 8   \n",
      "63782              21.00        5000.00                39   \n",
      "\n",
      "        main_category_encoded  country_encoded  usd_goal_real_scaled  \n",
      "157537                     12               21              0.000050  \n",
      "143860                     12               21              0.000007  \n",
      "81483                      12                3              0.000320  \n",
      "122532                     13               21              0.000150  \n",
      "63782                       6               21              0.000050  \n"
     ]
    }
   ],
   "source": [
    "# Sample 20% of your dataset\n",
    "\n",
    "# your code goes here\n",
    "data_sampled = data.sample(frac=0.2)\n",
    "scaler = minmax_scaling(data_sampled[['usd_goal_real']], columns=['usd_goal_real'])\n",
    "data_sampled['usd_goal_real_scaled'] = scaler\n",
    "print(data_sampled.head())\n"
   ]
  },
  {
   "cell_type": "markdown",
   "id": "34fe4b5b",
   "metadata": {
    "id": "34fe4b5b"
   },
   "source": [
    "Min-Max data scaling"
   ]
  },
  {
   "cell_type": "code",
   "execution_count": 30,
   "id": "5715b5e8",
   "metadata": {
    "id": "5715b5e8"
   },
   "outputs": [],
   "source": [
    "scaled_data = minmax_scaling(np.array(data_sampled.usd_goal_real), columns=[0])"
   ]
  },
  {
   "cell_type": "code",
   "execution_count": null,
   "id": "330d84b9",
   "metadata": {
    "id": "330d84b9"
   },
   "outputs": [],
   "source": [
    "# plot both together to compare\n",
    "# if plotting takes too much time try to decrease the sample size to 5%\n",
    "fig, ax = plt.subplots(1, 2, figsize=(15, 3))\n",
    "\n",
    "sns.histplot(np.array(data_sampled.usd_goal_real), ax=ax[0], kde=True, legend=False)\n",
    "ax[0].set_title(\"Original Data\")\n",
    "\n",
    "sns.histplot(scaled_data, ax=ax[1], kde=True, legend=False)\n",
    "ax[1].set_title(\"Scaled data\")\n",
    "\n",
    "plt.show()"
   ]
  },
  {
   "cell_type": "markdown",
   "id": "bd6b4d36",
   "metadata": {
    "id": "bd6b4d36"
   },
   "source": [
    "We will use \"pledged_real\" column to apply Box-Cox normalization"
   ]
  },
  {
   "cell_type": "markdown",
   "id": "59eb2f88",
   "metadata": {
    "id": "59eb2f88"
   },
   "source": [
    "Box-Cox Normalization"
   ]
  },
  {
   "cell_type": "code",
   "execution_count": null,
   "id": "71122b01",
   "metadata": {
    "id": "71122b01"
   },
   "outputs": [],
   "source": [
    "pledges = np.array(data_sampled.query(\"pledged > 0\").pledged)\n",
    "normalized_data = stats.boxcox(pledges)[0]"
   ]
  },
  {
   "cell_type": "code",
   "execution_count": null,
   "id": "84c96fd7",
   "metadata": {
    "id": "84c96fd7"
   },
   "outputs": [],
   "source": [
    "# plot both together to compare\n",
    "\n",
    "fig, ax=plt.subplots(1,2)\n",
    "\n",
    "sns.distplot(pledges, ax=ax[0])\n",
    "ax[0].set_title(\"Original Data\")\n",
    "sns.distplot(normalized_data, ax=ax[1])\n",
    "ax[1].set_title(\"Normalized data\")\n",
    "plt.show()"
   ]
  },
  {
   "cell_type": "markdown",
   "id": "431dac53",
   "metadata": {
    "id": "431dac53"
   },
   "source": [
    "What are the differences in scaling with Min-max and normalizing with Box-Cox?"
   ]
  },
  {
   "cell_type": "markdown",
   "id": "532a79ce",
   "metadata": {
    "id": "8f641b51"
   },
   "source": [
    "Min-max scaling scales numerical features to a fixed range, while Box-Cox normalization transforms non-normal data into a normal distribution. Min-max scaling is useful when the data is roughly uniform, while Box-Cox normalization is useful when the data is skewed or has a non-linear relationship."
   ]
  },
  {
   "cell_type": "markdown",
   "id": "2a3ac677",
   "metadata": {
    "id": "2a3ac677"
   },
   "source": [
    "BONUS POINTS"
   ]
  },
  {
   "cell_type": "markdown",
   "id": "90f88f72",
   "metadata": {
    "id": "90f88f72"
   },
   "source": [
    "Great, now go to the lecture notes slide 11\n",
    "1. Implement Z-score normalization (the first formula), name your function ZScore_norm()\n",
    "2. Implement Logistic normalization (the third formula), name your function Log_norm()\n",
    "\n",
    "DO NOT USE READY TO USE PACKAGES"
   ]
  },
  {
   "cell_type": "code",
   "execution_count": null,
   "id": "00f5f4a3",
   "metadata": {
    "id": "00f5f4a3"
   },
   "outputs": [],
   "source": [
    "# to be finished \n",
    "\n",
    "def ZScore_norm(value_, mean_, std_)"
   ]
  },
  {
   "cell_type": "code",
   "execution_count": null,
   "id": "1cc78e3f",
   "metadata": {
    "id": "1cc78e3f"
   },
   "outputs": [],
   "source": [
    "# to be finished \n",
    "\n",
    "def Log_norm(value_)"
   ]
  },
  {
   "cell_type": "markdown",
   "id": "5d7f9a11",
   "metadata": {
    "id": "5d7f9a11"
   },
   "source": [
    "For you futher work you can use implementation from sklearn\n",
    "<br/>\n",
    "https://scikit-learn.org/stable/modules/generated/sklearn.preprocessing.StandardScaler.html"
   ]
  },
  {
   "cell_type": "code",
   "execution_count": null,
   "id": "394a65ff",
   "metadata": {
    "id": "394a65ff"
   },
   "outputs": [],
   "source": []
  },
  {
   "cell_type": "code",
   "execution_count": null,
   "id": "978dc54d",
   "metadata": {
    "id": "978dc54d"
   },
   "outputs": [],
   "source": []
  }
 ],
 "metadata": {
  "colab": {
   "provenance": []
  },
  "kernelspec": {
   "display_name": "Python 3 (ipykernel)",
   "language": "python",
   "name": "python3"
  },
  "language_info": {
   "codemirror_mode": {
    "name": "ipython",
    "version": 3
   },
   "file_extension": ".py",
   "mimetype": "text/x-python",
   "name": "python",
   "nbconvert_exporter": "python",
   "pygments_lexer": "ipython3",
   "version": "3.11.1"
  }
 },
 "nbformat": 4,
 "nbformat_minor": 5
}
